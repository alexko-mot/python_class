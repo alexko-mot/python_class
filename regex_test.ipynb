{
 "cells": [
  {
   "cell_type": "code",
   "execution_count": 1,
   "id": "f911db28",
   "metadata": {},
   "outputs": [],
   "source": [
    "import re"
   ]
  },
  {
   "cell_type": "code",
   "execution_count": 2,
   "id": "33ad0785",
   "metadata": {},
   "outputs": [
    {
     "name": "stderr",
     "output_type": "stream",
     "text": [
      "<>:3: SyntaxWarning: invalid escape sequence '\\('\n",
      "<>:3: SyntaxWarning: invalid escape sequence '\\('\n",
      "/var/folders/nq/xyn28_pn6qbb9cr5mfnz4rcw0000gn/T/ipykernel_29880/2257696505.py:3: SyntaxWarning: invalid escape sequence '\\('\n",
      "  p = re.compile('(.*)\\(a\\),(.*)\\(b\\)')\n"
     ]
    }
   ],
   "source": [
    "s = 'Alex(a),Blex(b)'\n",
    "\n",
    "p = re.compile('(.*)\\(a\\),(.*)\\(b\\)')"
   ]
  },
  {
   "cell_type": "code",
   "execution_count": 5,
   "id": "c4f88ad8",
   "metadata": {},
   "outputs": [
    {
     "data": {
      "text/plain": [
       "('Alex', 'Blex')"
      ]
     },
     "execution_count": 5,
     "metadata": {},
     "output_type": "execute_result"
    }
   ],
   "source": [
    "m =p.match(s)\n",
    "m.groups()"
   ]
  },
  {
   "cell_type": "code",
   "execution_count": null,
   "id": "302397de",
   "metadata": {},
   "outputs": [],
   "source": []
  }
 ],
 "metadata": {
  "kernelspec": {
   "display_name": "mot",
   "language": "python",
   "name": "python3"
  },
  "language_info": {
   "codemirror_mode": {
    "name": "ipython",
    "version": 3
   },
   "file_extension": ".py",
   "mimetype": "text/x-python",
   "name": "python",
   "nbconvert_exporter": "python",
   "pygments_lexer": "ipython3",
   "version": "3.13.2"
  }
 },
 "nbformat": 4,
 "nbformat_minor": 5
}
