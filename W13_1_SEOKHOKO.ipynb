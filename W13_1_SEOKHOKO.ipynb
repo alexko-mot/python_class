{
  "cells": [
    {
      "cell_type": "markdown",
      "metadata": {
        "id": "view-in-github",
        "colab_type": "text"
      },
      "source": [
        "<a href=\"https://colab.research.google.com/github/alexko-mot/python_class/blob/main/W13_1_SEOKHOKO.ipynb\" target=\"_parent\"><img src=\"https://colab.research.google.com/assets/colab-badge.svg\" alt=\"Open In Colab\"/></a>"
      ]
    },
    {
      "cell_type": "markdown",
      "id": "d4814eb0",
      "metadata": {
        "id": "d4814eb0"
      },
      "source": [
        "# Week 13 - 1"
      ]
    },
    {
      "cell_type": "code",
      "execution_count": null,
      "id": "ff5ee879",
      "metadata": {
        "id": "ff5ee879",
        "outputId": "7f06cf47-1e60-491f-93e9-a681fa2327a7"
      },
      "outputs": [
        {
          "name": "stdout",
          "output_type": "stream",
          "text": [
            "menu\n"
          ]
        }
      ],
      "source": [
        "import xml.etree.ElementTree as et\n",
        "tree = et.ElementTree(file='menu.xml')\n",
        "root = tree.getroot()\n",
        "\n",
        "print(root.tag)"
      ]
    },
    {
      "cell_type": "markdown",
      "id": "e7c21186",
      "metadata": {
        "id": "e7c21186"
      },
      "source": []
    }
  ],
  "metadata": {
    "kernelspec": {
      "display_name": "mot",
      "language": "python",
      "name": "python3"
    },
    "language_info": {
      "codemirror_mode": {
        "name": "ipython",
        "version": 3
      },
      "file_extension": ".py",
      "mimetype": "text/x-python",
      "name": "python",
      "nbconvert_exporter": "python",
      "pygments_lexer": "ipython3",
      "version": "3.13.2"
    },
    "colab": {
      "provenance": [],
      "include_colab_link": true
    }
  },
  "nbformat": 4,
  "nbformat_minor": 5
}