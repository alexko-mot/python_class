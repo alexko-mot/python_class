{
  "cells": [
    {
      "cell_type": "markdown",
      "metadata": {
        "id": "view-in-github",
        "colab_type": "text"
      },
      "source": [
        "<a href=\"https://colab.research.google.com/github/alexko-mot/python_class/blob/main/W11_KOSEOKHO_2024113846.ipynb\" target=\"_parent\"><img src=\"https://colab.research.google.com/assets/colab-badge.svg\" alt=\"Open In Colab\"/></a>"
      ]
    },
    {
      "cell_type": "markdown",
      "id": "ffce368c",
      "metadata": {
        "id": "ffce368c"
      },
      "source": [
        "# 11주차"
      ]
    },
    {
      "cell_type": "markdown",
      "id": "4f762a58",
      "metadata": {
        "id": "4f762a58"
      },
      "source": [
        "# NumPy: the absolute basics for beginners"
      ]
    },
    {
      "cell_type": "code",
      "execution_count": null,
      "id": "64de7282",
      "metadata": {
        "id": "64de7282"
      },
      "outputs": [],
      "source": [
        "import numpy as np"
      ]
    },
    {
      "cell_type": "markdown",
      "id": "0cd6ca8e",
      "metadata": {
        "id": "0cd6ca8e"
      },
      "source": [
        "# Array fundamentals"
      ]
    },
    {
      "cell_type": "code",
      "execution_count": null,
      "id": "462c4480",
      "metadata": {
        "id": "462c4480",
        "outputId": "8677b238-d675-4b5d-ce56-06249ff49e7b"
      },
      "outputs": [
        {
          "data": {
            "text/plain": [
              "(2, 3)"
            ]
          },
          "execution_count": 3,
          "metadata": {},
          "output_type": "execute_result"
        }
      ],
      "source": [
        "a = np.array(\n",
        "    [\n",
        "        [1, 2, 3],\n",
        "        [4, 5, 6]\n",
        "    ]\n",
        ")\n",
        "a.shape"
      ]
    },
    {
      "cell_type": "code",
      "execution_count": null,
      "id": "e4a6938e",
      "metadata": {
        "id": "e4a6938e",
        "outputId": "4458d496-9224-4877-a75d-670f16356546"
      },
      "outputs": [
        {
          "data": {
            "text/plain": [
              "array([1, 2, 3, 4, 5, 6])"
            ]
          },
          "execution_count": 4,
          "metadata": {},
          "output_type": "execute_result"
        }
      ],
      "source": [
        "a = np.array([1, 2, 3, 4, 5, 6])\n",
        "a"
      ]
    },
    {
      "cell_type": "code",
      "execution_count": null,
      "id": "a66b986b",
      "metadata": {
        "id": "a66b986b",
        "outputId": "3bf881df-5048-4a8d-aac1-ecc5a22c0726"
      },
      "outputs": [
        {
          "data": {
            "text/plain": [
              "np.int64(3)"
            ]
          },
          "execution_count": 5,
          "metadata": {},
          "output_type": "execute_result"
        }
      ],
      "source": [
        "a[2]"
      ]
    },
    {
      "cell_type": "code",
      "execution_count": null,
      "id": "2abda8c5",
      "metadata": {
        "id": "2abda8c5",
        "outputId": "a67d056c-e644-42c4-f880-ea078580d4a2"
      },
      "outputs": [
        {
          "data": {
            "text/plain": [
              "array([10,  2,  3,  4,  5,  6])"
            ]
          },
          "execution_count": 6,
          "metadata": {},
          "output_type": "execute_result"
        }
      ],
      "source": [
        "a[0] = 10\n",
        "a"
      ]
    },
    {
      "cell_type": "code",
      "execution_count": null,
      "id": "c8f1fe85",
      "metadata": {
        "id": "c8f1fe85",
        "outputId": "dc22e86d-dc2c-4532-fb7b-e209e7c20815"
      },
      "outputs": [
        {
          "data": {
            "text/plain": [
              "array([10,  2,  3])"
            ]
          },
          "execution_count": 7,
          "metadata": {},
          "output_type": "execute_result"
        }
      ],
      "source": [
        "a[:3]"
      ]
    },
    {
      "cell_type": "code",
      "execution_count": null,
      "id": "f105c913",
      "metadata": {
        "id": "f105c913",
        "outputId": "fac70c27-e66b-44ad-ded5-47ed4985ae47"
      },
      "outputs": [
        {
          "data": {
            "text/plain": [
              "array([40,  2,  3,  4,  5,  6])"
            ]
          },
          "execution_count": 8,
          "metadata": {},
          "output_type": "execute_result"
        }
      ],
      "source": [
        "b = a[:3]\n",
        "b\n",
        "b[0] = 40\n",
        "a"
      ]
    },
    {
      "cell_type": "code",
      "execution_count": null,
      "id": "cb6b2488",
      "metadata": {
        "id": "cb6b2488",
        "outputId": "5a0d7e09-da55-421d-9bcf-f87e604d84e7"
      },
      "outputs": [
        {
          "data": {
            "text/plain": [
              "array([[ 1,  2,  3,  4],\n",
              "       [ 5,  6,  7,  8],\n",
              "       [ 9, 10, 11, 12]])"
            ]
          },
          "execution_count": 9,
          "metadata": {},
          "output_type": "execute_result"
        }
      ],
      "source": [
        "a = np.array([[1, 2, 3, 4], [5, 6, 7, 8], [9, 10, 11, 12]])\n",
        "a"
      ]
    },
    {
      "cell_type": "markdown",
      "id": "f4e633a9",
      "metadata": {
        "id": "f4e633a9"
      },
      "source": [
        "In NumPy, a dimension of an array is sometimes referred to as an “axis”. This terminology may be useful to disambiguate between the dimensionality of an array and the dimensionality of the data represented by the array. For instance, the array a could represent three points, each lying within a four-dimensional space, but a has only two “axes”.\n",
        "\n",
        "Another difference between an array and a list of lists is that an element of the array can be accessed by specifying the index along each axis within a single set of square brackets, separated by commas. For instance, the element 8 is in row 1 and column 3"
      ]
    },
    {
      "cell_type": "code",
      "execution_count": null,
      "id": "4a65ec01",
      "metadata": {
        "id": "4a65ec01",
        "outputId": "12efa8e7-27a6-4008-9133-b8aef0cd9476"
      },
      "outputs": [
        {
          "data": {
            "text/plain": [
              "np.int64(8)"
            ]
          },
          "execution_count": 10,
          "metadata": {},
          "output_type": "execute_result"
        }
      ],
      "source": [
        "a[1, 3]"
      ]
    },
    {
      "cell_type": "markdown",
      "id": "8f9de0d4",
      "metadata": {
        "id": "8f9de0d4"
      },
      "source": [
        "# Array attributes"
      ]
    },
    {
      "cell_type": "code",
      "execution_count": null,
      "id": "bb1ab3e8",
      "metadata": {
        "id": "bb1ab3e8",
        "outputId": "f8abf4a4-4b51-4909-fc2b-8e0ce9c43357"
      },
      "outputs": [
        {
          "data": {
            "text/plain": [
              "2"
            ]
          },
          "execution_count": 11,
          "metadata": {},
          "output_type": "execute_result"
        }
      ],
      "source": [
        "a.ndim"
      ]
    },
    {
      "cell_type": "code",
      "execution_count": null,
      "id": "3fd58516",
      "metadata": {
        "id": "3fd58516",
        "outputId": "65088020-2c4a-43eb-f1b1-350dfb9f85ad"
      },
      "outputs": [
        {
          "data": {
            "text/plain": [
              "(3, 4)"
            ]
          },
          "execution_count": 12,
          "metadata": {},
          "output_type": "execute_result"
        }
      ],
      "source": [
        "a.shape"
      ]
    },
    {
      "cell_type": "code",
      "execution_count": null,
      "id": "de270047",
      "metadata": {
        "id": "de270047",
        "outputId": "3f2830fd-c6ac-4d6f-dcf7-d4b5cfc3f0a5"
      },
      "outputs": [
        {
          "data": {
            "text/plain": [
              "True"
            ]
          },
          "execution_count": 13,
          "metadata": {},
          "output_type": "execute_result"
        }
      ],
      "source": [
        "len(a.shape) == a.ndim"
      ]
    },
    {
      "cell_type": "code",
      "execution_count": null,
      "id": "da77211f",
      "metadata": {
        "id": "da77211f",
        "outputId": "6d9be211-98b5-41f7-a95c-8dfc746e6dab"
      },
      "outputs": [
        {
          "data": {
            "text/plain": [
              "2"
            ]
          },
          "execution_count": 14,
          "metadata": {},
          "output_type": "execute_result"
        }
      ],
      "source": [
        "len(a.shape)"
      ]
    },
    {
      "cell_type": "code",
      "execution_count": null,
      "id": "75e288d1",
      "metadata": {
        "id": "75e288d1",
        "outputId": "af847799-cab4-48e8-8d94-ec97b791b207"
      },
      "outputs": [
        {
          "data": {
            "text/plain": [
              "12"
            ]
          },
          "execution_count": 15,
          "metadata": {},
          "output_type": "execute_result"
        }
      ],
      "source": [
        "a.size"
      ]
    },
    {
      "cell_type": "code",
      "execution_count": null,
      "id": "e7d39b74",
      "metadata": {
        "id": "e7d39b74",
        "outputId": "a2983ec2-112a-4f6e-c513-79bcbab21457"
      },
      "outputs": [
        {
          "data": {
            "text/plain": [
              "True"
            ]
          },
          "execution_count": 16,
          "metadata": {},
          "output_type": "execute_result"
        }
      ],
      "source": [
        "import math\n",
        "a.size == math.prod(a.shape)"
      ]
    },
    {
      "cell_type": "code",
      "execution_count": null,
      "id": "d39a50ac",
      "metadata": {
        "id": "d39a50ac",
        "outputId": "8a7933b4-10a7-452d-8101-4fc40daf12fd"
      },
      "outputs": [
        {
          "data": {
            "text/plain": [
              "dtype('int64')"
            ]
          },
          "execution_count": 17,
          "metadata": {},
          "output_type": "execute_result"
        }
      ],
      "source": [
        "a.dtype"
      ]
    },
    {
      "cell_type": "markdown",
      "id": "c021f848",
      "metadata": {
        "id": "c021f848"
      },
      "source": [
        "# How to create a basic array"
      ]
    },
    {
      "cell_type": "markdown",
      "id": "1c8e6dbe",
      "metadata": {
        "id": "1c8e6dbe"
      },
      "source": [
        "np.zeros(2)"
      ]
    },
    {
      "cell_type": "code",
      "execution_count": null,
      "id": "ea24ef3e",
      "metadata": {
        "id": "ea24ef3e",
        "outputId": "3514b54f-91ad-4979-a94d-aa1c18a61787"
      },
      "outputs": [
        {
          "data": {
            "text/plain": [
              "array([1., 1.])"
            ]
          },
          "execution_count": 19,
          "metadata": {},
          "output_type": "execute_result"
        }
      ],
      "source": [
        "np.ones(2)"
      ]
    },
    {
      "cell_type": "code",
      "execution_count": null,
      "id": "6ddd1a72",
      "metadata": {
        "id": "6ddd1a72",
        "outputId": "fb4908ec-1150-44fa-9641-594e71b2b1cd"
      },
      "outputs": [
        {
          "data": {
            "text/plain": [
              "array([1., 1.])"
            ]
          },
          "execution_count": 20,
          "metadata": {},
          "output_type": "execute_result"
        }
      ],
      "source": [
        "np.empty(2)"
      ]
    },
    {
      "cell_type": "code",
      "execution_count": null,
      "id": "867a0e00",
      "metadata": {
        "id": "867a0e00",
        "outputId": "6d89befa-19d3-4c91-c9a9-babaefdce796"
      },
      "outputs": [
        {
          "data": {
            "text/plain": [
              "array([0, 1, 2, 3])"
            ]
          },
          "execution_count": 22,
          "metadata": {},
          "output_type": "execute_result"
        }
      ],
      "source": [
        "np.arange(4)"
      ]
    },
    {
      "cell_type": "code",
      "execution_count": null,
      "id": "806fb845",
      "metadata": {
        "id": "806fb845",
        "outputId": "2456f34c-d67a-4c8e-8176-758465a3f0da"
      },
      "outputs": [
        {
          "data": {
            "text/plain": [
              "array([2, 4, 6, 8])"
            ]
          },
          "execution_count": 23,
          "metadata": {},
          "output_type": "execute_result"
        }
      ],
      "source": [
        "np.arange(2, 9, 2)"
      ]
    },
    {
      "cell_type": "code",
      "execution_count": null,
      "id": "16295f33",
      "metadata": {
        "id": "16295f33",
        "outputId": "bca78815-cb34-4888-afd1-dd36dfebd180"
      },
      "outputs": [
        {
          "data": {
            "text/plain": [
              "array([ 0. ,  2.5,  5. ,  7.5, 10. ])"
            ]
          },
          "execution_count": 24,
          "metadata": {},
          "output_type": "execute_result"
        }
      ],
      "source": [
        "np.linspace(0, 10, num=5)"
      ]
    },
    {
      "cell_type": "code",
      "execution_count": null,
      "id": "2d0dc641",
      "metadata": {
        "id": "2d0dc641",
        "outputId": "7403077b-1117-4842-950d-90a0efed2973"
      },
      "outputs": [
        {
          "data": {
            "text/plain": [
              "array([1, 1])"
            ]
          },
          "execution_count": 25,
          "metadata": {},
          "output_type": "execute_result"
        }
      ],
      "source": [
        "np.ones(2, dtype=np.int64)"
      ]
    },
    {
      "cell_type": "markdown",
      "id": "8ff52f2f",
      "metadata": {
        "id": "8ff52f2f"
      },
      "source": [
        "# Adding, removing, and sorting elements"
      ]
    },
    {
      "cell_type": "code",
      "execution_count": null,
      "id": "3ef2cd42",
      "metadata": {
        "id": "3ef2cd42"
      },
      "outputs": [],
      "source": [
        "arr = np.array([2, 1, 5, 3, 7, 4, 6, 8])"
      ]
    },
    {
      "cell_type": "code",
      "execution_count": null,
      "id": "05b6aec5",
      "metadata": {
        "id": "05b6aec5",
        "outputId": "486a0535-0c23-4ed2-ce6d-0ed04dfa5221"
      },
      "outputs": [
        {
          "data": {
            "text/plain": [
              "array([1, 2, 3, 4, 5, 6, 7, 8])"
            ]
          },
          "execution_count": 28,
          "metadata": {},
          "output_type": "execute_result"
        }
      ],
      "source": [
        "np.sort(arr)"
      ]
    },
    {
      "cell_type": "code",
      "execution_count": null,
      "id": "30d6d7cc",
      "metadata": {
        "id": "30d6d7cc"
      },
      "outputs": [],
      "source": [
        "a = np.array([1, 2, 3, 4])\n",
        "b = np.array([5, 6, 7, 8])"
      ]
    },
    {
      "cell_type": "code",
      "execution_count": null,
      "id": "6e663f16",
      "metadata": {
        "id": "6e663f16",
        "outputId": "73a785a8-f1b2-4784-fddb-7901a54a61e3"
      },
      "outputs": [
        {
          "data": {
            "text/plain": [
              "array([1, 2, 3, 4, 5, 6, 7, 8])"
            ]
          },
          "execution_count": 30,
          "metadata": {},
          "output_type": "execute_result"
        }
      ],
      "source": [
        "np.concatenate((a, b))"
      ]
    },
    {
      "cell_type": "code",
      "execution_count": null,
      "id": "3a80c9ed",
      "metadata": {
        "id": "3a80c9ed"
      },
      "outputs": [],
      "source": [
        "x = np.array([[1, 2], [3, 4]])\n",
        "y = np.array([[5, 6]])"
      ]
    },
    {
      "cell_type": "code",
      "execution_count": null,
      "id": "c8587ba6",
      "metadata": {
        "id": "c8587ba6",
        "outputId": "497313aa-e461-4eb4-f99f-f799b00944f6"
      },
      "outputs": [
        {
          "data": {
            "text/plain": [
              "array([[1, 2],\n",
              "       [3, 4],\n",
              "       [5, 6]])"
            ]
          },
          "execution_count": 32,
          "metadata": {},
          "output_type": "execute_result"
        }
      ],
      "source": [
        "np.concatenate((x, y), axis=0)"
      ]
    },
    {
      "cell_type": "markdown",
      "id": "8a10b910",
      "metadata": {
        "id": "8a10b910"
      },
      "source": [
        "# How do you know the shape and size of an array?"
      ]
    },
    {
      "cell_type": "code",
      "execution_count": null,
      "id": "a55597a4",
      "metadata": {
        "id": "a55597a4"
      },
      "outputs": [],
      "source": [
        "array_example = np.array([[[0, 1, 2, 3],\n",
        "                           [4, 5, 6, 7]],\n",
        "                          [[0, 1, 2, 3],\n",
        "                           [4, 5, 6, 7]],\n",
        "                          [[0 ,1 ,2, 3],\n",
        "                           [4, 5, 6, 7]]])"
      ]
    },
    {
      "cell_type": "code",
      "execution_count": null,
      "id": "e1f5746e",
      "metadata": {
        "id": "e1f5746e",
        "outputId": "0d19a30c-5044-4e4d-d84b-8b4163ceea8e"
      },
      "outputs": [
        {
          "data": {
            "text/plain": [
              "3"
            ]
          },
          "execution_count": 34,
          "metadata": {},
          "output_type": "execute_result"
        }
      ],
      "source": [
        "array_example.ndim"
      ]
    },
    {
      "cell_type": "code",
      "execution_count": null,
      "id": "13079125",
      "metadata": {
        "id": "13079125",
        "outputId": "802c8cd7-4d0c-4cbd-98a1-83c943563d26"
      },
      "outputs": [
        {
          "data": {
            "text/plain": [
              "24"
            ]
          },
          "execution_count": 35,
          "metadata": {},
          "output_type": "execute_result"
        }
      ],
      "source": [
        "array_example.size"
      ]
    },
    {
      "cell_type": "code",
      "execution_count": null,
      "id": "29c0ad12",
      "metadata": {
        "id": "29c0ad12",
        "outputId": "60489574-95fb-4d86-efea-aab526563580"
      },
      "outputs": [
        {
          "data": {
            "text/plain": [
              "(3, 2, 4)"
            ]
          },
          "execution_count": 36,
          "metadata": {},
          "output_type": "execute_result"
        }
      ],
      "source": [
        "array_example.shape"
      ]
    },
    {
      "cell_type": "markdown",
      "id": "16f8e4f3",
      "metadata": {
        "id": "16f8e4f3"
      },
      "source": [
        "# Can you reshape an array?"
      ]
    },
    {
      "cell_type": "code",
      "execution_count": null,
      "id": "e1f61a32",
      "metadata": {
        "id": "e1f61a32",
        "outputId": "f61edaf5-1f94-46f1-925c-0e8f750ad682"
      },
      "outputs": [
        {
          "name": "stdout",
          "output_type": "stream",
          "text": [
            "[0 1 2 3 4 5]\n"
          ]
        }
      ],
      "source": [
        "a = np.arange(6)\n",
        "print(a)"
      ]
    },
    {
      "cell_type": "code",
      "execution_count": null,
      "id": "db566805",
      "metadata": {
        "id": "db566805",
        "outputId": "e86c7c39-6b4e-4797-c0c9-5884316bc1e6"
      },
      "outputs": [
        {
          "name": "stdout",
          "output_type": "stream",
          "text": [
            "[[0 1]\n",
            " [2 3]\n",
            " [4 5]]\n"
          ]
        }
      ],
      "source": [
        "b = a.reshape(3, 2)\n",
        "print(b)"
      ]
    },
    {
      "cell_type": "code",
      "execution_count": null,
      "id": "a243c3fc",
      "metadata": {
        "id": "a243c3fc",
        "outputId": "80ca97bd-7d96-40e9-d6e9-b1897783c94c"
      },
      "outputs": [
        {
          "data": {
            "text/plain": [
              "array([[0, 1, 2, 3, 4, 5]])"
            ]
          },
          "execution_count": 39,
          "metadata": {},
          "output_type": "execute_result"
        }
      ],
      "source": [
        "np.reshape(a, shape=(1, 6), order='C')"
      ]
    },
    {
      "cell_type": "markdown",
      "id": "62115bbd",
      "metadata": {
        "id": "62115bbd"
      },
      "source": [
        "# How to convert a 1D array into a 2D array (how to add a new axis to an array)"
      ]
    },
    {
      "cell_type": "code",
      "execution_count": null,
      "id": "473976dc",
      "metadata": {
        "id": "473976dc",
        "outputId": "035abf39-36ae-4786-c2f4-501f40c65fb0"
      },
      "outputs": [
        {
          "data": {
            "text/plain": [
              "(6,)"
            ]
          },
          "execution_count": 40,
          "metadata": {},
          "output_type": "execute_result"
        }
      ],
      "source": [
        "a = np.array([1, 2, 3, 4, 5, 6])\n",
        "a.shape"
      ]
    },
    {
      "cell_type": "code",
      "execution_count": null,
      "id": "5cd4d431",
      "metadata": {
        "id": "5cd4d431",
        "outputId": "3a4ef870-3952-4604-f6fe-f41a3dac08f2"
      },
      "outputs": [
        {
          "data": {
            "text/plain": [
              "array([[1, 2, 3, 4, 5, 6]])"
            ]
          },
          "execution_count": 42,
          "metadata": {},
          "output_type": "execute_result"
        }
      ],
      "source": [
        "a2 = a[np.newaxis, :]\n",
        "a2.shape\n",
        "a2"
      ]
    },
    {
      "cell_type": "code",
      "execution_count": null,
      "id": "eee97e1a",
      "metadata": {
        "id": "eee97e1a",
        "outputId": "62b22581-68a1-4fb3-c247-50b0f6049720"
      },
      "outputs": [
        {
          "data": {
            "text/plain": [
              "(1, 6)"
            ]
          },
          "execution_count": 43,
          "metadata": {},
          "output_type": "execute_result"
        }
      ],
      "source": [
        "row_vector = a[np.newaxis, :]\n",
        "row_vector.shape"
      ]
    },
    {
      "cell_type": "code",
      "execution_count": null,
      "id": "47c9b57c",
      "metadata": {
        "id": "47c9b57c",
        "outputId": "23555430-b66c-4781-ab0f-f094b90f77f3"
      },
      "outputs": [
        {
          "data": {
            "text/plain": [
              "(6, 1)"
            ]
          },
          "execution_count": 44,
          "metadata": {},
          "output_type": "execute_result"
        }
      ],
      "source": [
        "col_vector = a[:, np.newaxis]\n",
        "col_vector.shape"
      ]
    },
    {
      "cell_type": "code",
      "execution_count": null,
      "id": "f351d00e",
      "metadata": {
        "id": "f351d00e",
        "outputId": "1dfe9356-8140-4775-ef24-0fbaeb30652c"
      },
      "outputs": [
        {
          "data": {
            "text/plain": [
              "(6,)"
            ]
          },
          "execution_count": 45,
          "metadata": {},
          "output_type": "execute_result"
        }
      ],
      "source": [
        "a = np.array([1, 2, 3, 4, 5, 6])\n",
        "a.shape"
      ]
    },
    {
      "cell_type": "code",
      "execution_count": null,
      "id": "ccf17d36",
      "metadata": {
        "id": "ccf17d36",
        "outputId": "8c96379f-48a4-46f9-830d-6c835fe1959b"
      },
      "outputs": [
        {
          "data": {
            "text/plain": [
              "(6, 1)"
            ]
          },
          "execution_count": 46,
          "metadata": {},
          "output_type": "execute_result"
        }
      ],
      "source": [
        "b = np.expand_dims(a, axis=1)\n",
        "b.shape"
      ]
    },
    {
      "cell_type": "code",
      "execution_count": null,
      "id": "3c57f009",
      "metadata": {
        "id": "3c57f009",
        "outputId": "c2052fde-fa49-4a78-dc7a-1ee4c5e38e67"
      },
      "outputs": [
        {
          "data": {
            "text/plain": [
              "(1, 6)"
            ]
          },
          "execution_count": 47,
          "metadata": {},
          "output_type": "execute_result"
        }
      ],
      "source": [
        "c = np.expand_dims(a, axis=0)\n",
        "c.shape"
      ]
    },
    {
      "cell_type": "markdown",
      "id": "eaade440",
      "metadata": {
        "id": "eaade440"
      },
      "source": [
        "# Indexing and slicing"
      ]
    },
    {
      "cell_type": "code",
      "execution_count": null,
      "id": "187c1355",
      "metadata": {
        "id": "187c1355",
        "outputId": "9e253d7b-03c7-4f27-f68a-69e5a295076a"
      },
      "outputs": [
        {
          "name": "stdout",
          "output_type": "stream",
          "text": [
            "2\n",
            "[1 2]\n",
            "[2 3]\n",
            "[2 3]\n"
          ]
        }
      ],
      "source": [
        "data = np.array([1, 2, 3])\n",
        "\n",
        "print(data[1])\n",
        "print(data[0:2])\n",
        "print(data[1:])\n",
        "print(data[-2:])"
      ]
    },
    {
      "cell_type": "code",
      "execution_count": null,
      "id": "32df173b",
      "metadata": {
        "id": "32df173b",
        "outputId": "949d5568-28b3-4b24-b037-8a8bf6cd5f6e"
      },
      "outputs": [
        {
          "data": {
            "text/plain": [
              "array([[ 1,  2,  3,  4],\n",
              "       [ 5,  6,  7,  8],\n",
              "       [ 9, 10, 11, 12]])"
            ]
          },
          "execution_count": 51,
          "metadata": {},
          "output_type": "execute_result"
        }
      ],
      "source": [
        "a = np.array([[1 , 2, 3, 4], [5, 6, 7, 8], [9, 10, 11, 12]])\n",
        "a"
      ]
    },
    {
      "cell_type": "code",
      "execution_count": null,
      "id": "dd339c8e",
      "metadata": {
        "id": "dd339c8e",
        "outputId": "53a51e8c-33ca-418a-d8b3-7af7e58b4160"
      },
      "outputs": [
        {
          "name": "stdout",
          "output_type": "stream",
          "text": [
            "[1 2 3 4]\n"
          ]
        }
      ],
      "source": [
        "print(a[a < 5])"
      ]
    },
    {
      "cell_type": "code",
      "execution_count": null,
      "id": "52279be7",
      "metadata": {
        "id": "52279be7",
        "outputId": "75a7330b-7ae8-47d8-8c29-4a6cf5839a46"
      },
      "outputs": [
        {
          "name": "stdout",
          "output_type": "stream",
          "text": [
            "[ 5  6  7  8  9 10 11 12]\n"
          ]
        }
      ],
      "source": [
        "five_up = (a >= 5)\n",
        "print(a[five_up])"
      ]
    },
    {
      "cell_type": "code",
      "execution_count": null,
      "id": "5b0667ae",
      "metadata": {
        "id": "5b0667ae",
        "outputId": "b7c3bab1-d236-4534-c7ce-d5a388c8d4ea"
      },
      "outputs": [
        {
          "name": "stdout",
          "output_type": "stream",
          "text": [
            "[ 2  4  6  8 10 12]\n"
          ]
        }
      ],
      "source": [
        "divisible_by_2 = a[a%2==0]\n",
        "print(divisible_by_2)"
      ]
    },
    {
      "cell_type": "code",
      "execution_count": null,
      "id": "15d2b2e8",
      "metadata": {
        "id": "15d2b2e8",
        "outputId": "1c558bd6-1c9d-42c0-9707-94ec74f759c4"
      },
      "outputs": [
        {
          "name": "stdout",
          "output_type": "stream",
          "text": [
            "[ 3  4  5  6  7  8  9 10]\n"
          ]
        }
      ],
      "source": [
        "c = a[(a > 2) & (a < 11)]\n",
        "print(c)"
      ]
    },
    {
      "cell_type": "code",
      "execution_count": null,
      "id": "209c4f46",
      "metadata": {
        "id": "209c4f46",
        "outputId": "c27bf757-31bc-4c34-8f1e-611270eaa08f"
      },
      "outputs": [
        {
          "name": "stdout",
          "output_type": "stream",
          "text": [
            "[[False False False False]\n",
            " [ True  True  True  True]\n",
            " [ True  True  True  True]]\n"
          ]
        }
      ],
      "source": [
        "five_up = (a > 5) | (a == 5)\n",
        "print(five_up)"
      ]
    },
    {
      "cell_type": "code",
      "execution_count": null,
      "id": "6a3f8e18",
      "metadata": {
        "id": "6a3f8e18"
      },
      "outputs": [],
      "source": [
        "a = np.array([[1, 2, 3, 4], [5, 6, 7, 8], [9, 10, 11, 12]])"
      ]
    },
    {
      "cell_type": "code",
      "execution_count": null,
      "id": "66838fc9",
      "metadata": {
        "id": "66838fc9",
        "outputId": "704ef5df-f2e3-4ca0-c29a-47e4dd71ab03"
      },
      "outputs": [
        {
          "name": "stdout",
          "output_type": "stream",
          "text": [
            "(array([0, 0, 0, 0]), array([0, 1, 2, 3]))\n"
          ]
        }
      ],
      "source": [
        "b = np.nonzero(a < 5)\n",
        "print(b)"
      ]
    },
    {
      "cell_type": "code",
      "execution_count": null,
      "id": "4d1bfd18",
      "metadata": {
        "id": "4d1bfd18",
        "outputId": "4c3e5f85-899c-4565-87a5-59aa7adf1a0d"
      },
      "outputs": [
        {
          "name": "stdout",
          "output_type": "stream",
          "text": [
            "(np.int64(0), np.int64(0))\n",
            "(np.int64(0), np.int64(1))\n",
            "(np.int64(0), np.int64(2))\n",
            "(np.int64(0), np.int64(3))\n"
          ]
        }
      ],
      "source": [
        "list_of_coordinates= list(zip(b[0], b[1]))\n",
        "\n",
        "for coord in list_of_coordinates:\n",
        "    print(coord)"
      ]
    },
    {
      "cell_type": "code",
      "execution_count": null,
      "id": "5b8e5864",
      "metadata": {
        "id": "5b8e5864",
        "outputId": "3fd5094b-c45f-4b6c-aebc-aefd1c46c8f4"
      },
      "outputs": [
        {
          "name": "stdout",
          "output_type": "stream",
          "text": [
            "[1 2 3 4]\n"
          ]
        }
      ],
      "source": [
        "print(a[b])"
      ]
    },
    {
      "cell_type": "code",
      "execution_count": null,
      "id": "8dfb10c0",
      "metadata": {
        "id": "8dfb10c0",
        "outputId": "1b645918-44f9-46bb-ef3c-de02da5583b1"
      },
      "outputs": [
        {
          "name": "stdout",
          "output_type": "stream",
          "text": [
            "(array([], dtype=int64), array([], dtype=int64))\n"
          ]
        }
      ],
      "source": [
        "not_there = np.nonzero(a == 42)\n",
        "print(not_there)"
      ]
    },
    {
      "cell_type": "markdown",
      "id": "995c68a4",
      "metadata": {
        "id": "995c68a4"
      },
      "source": [
        "# How to create an array from existing data"
      ]
    },
    {
      "cell_type": "code",
      "execution_count": null,
      "id": "e5344433",
      "metadata": {
        "id": "e5344433"
      },
      "outputs": [],
      "source": [
        "a = np.array([1,  2,  3,  4,  5,  6,  7,  8,  9, 10])"
      ]
    },
    {
      "cell_type": "code",
      "execution_count": null,
      "id": "b0d96b7c",
      "metadata": {
        "id": "b0d96b7c",
        "outputId": "785b7085-1b9c-4094-ec1f-94f5c04beb9d"
      },
      "outputs": [
        {
          "data": {
            "text/plain": [
              "array([4, 5, 6, 7, 8])"
            ]
          },
          "execution_count": 63,
          "metadata": {},
          "output_type": "execute_result"
        }
      ],
      "source": [
        "arr1 = a[3:8]\n",
        "arr1"
      ]
    },
    {
      "cell_type": "code",
      "execution_count": null,
      "id": "14ae40b5",
      "metadata": {
        "id": "14ae40b5"
      },
      "outputs": [],
      "source": [
        "a1 = np.array([[1, 1],\n",
        "               [2, 2]])\n",
        "\n",
        "a2 = np.array([[3, 3],\n",
        "               [4, 4]])"
      ]
    },
    {
      "cell_type": "code",
      "execution_count": null,
      "id": "c1d7076d",
      "metadata": {
        "id": "c1d7076d",
        "outputId": "1a321bc6-7136-42fc-9976-e78913ecd294"
      },
      "outputs": [
        {
          "data": {
            "text/plain": [
              "array([[1, 1],\n",
              "       [2, 2],\n",
              "       [3, 3],\n",
              "       [4, 4]])"
            ]
          },
          "execution_count": 65,
          "metadata": {},
          "output_type": "execute_result"
        }
      ],
      "source": [
        "np.vstack((a1, a2))"
      ]
    },
    {
      "cell_type": "code",
      "execution_count": null,
      "id": "418e0c3e",
      "metadata": {
        "id": "418e0c3e",
        "outputId": "b267dbea-62c0-4916-819d-142a191484fa"
      },
      "outputs": [
        {
          "data": {
            "text/plain": [
              "array([[1, 1, 3, 3],\n",
              "       [2, 2, 4, 4]])"
            ]
          },
          "execution_count": 66,
          "metadata": {},
          "output_type": "execute_result"
        }
      ],
      "source": [
        "np.hstack((a1, a2))"
      ]
    },
    {
      "cell_type": "code",
      "execution_count": null,
      "id": "6d87f18d",
      "metadata": {
        "id": "6d87f18d",
        "outputId": "1addf454-a3bf-43d0-c13f-a862823d2f80"
      },
      "outputs": [
        {
          "data": {
            "text/plain": [
              "array([[ 1,  2,  3,  4,  5,  6,  7,  8,  9, 10, 11, 12],\n",
              "       [13, 14, 15, 16, 17, 18, 19, 20, 21, 22, 23, 24]])"
            ]
          },
          "execution_count": 67,
          "metadata": {},
          "output_type": "execute_result"
        }
      ],
      "source": [
        "x = np.arange(1, 25).reshape(2, 12)\n",
        "x"
      ]
    },
    {
      "cell_type": "code",
      "execution_count": null,
      "id": "986142ff",
      "metadata": {
        "id": "986142ff",
        "outputId": "12be983d-a1f3-43a2-8fd4-ca56b35de589"
      },
      "outputs": [
        {
          "data": {
            "text/plain": [
              "[array([[ 1,  2,  3,  4],\n",
              "        [13, 14, 15, 16]]),\n",
              " array([[ 5,  6,  7,  8],\n",
              "        [17, 18, 19, 20]]),\n",
              " array([[ 9, 10, 11, 12],\n",
              "        [21, 22, 23, 24]])]"
            ]
          },
          "execution_count": 68,
          "metadata": {},
          "output_type": "execute_result"
        }
      ],
      "source": [
        "np.hsplit(x, 3)"
      ]
    },
    {
      "cell_type": "code",
      "execution_count": null,
      "id": "065c6a29",
      "metadata": {
        "id": "065c6a29",
        "outputId": "f1511d04-51c1-4556-be25-2b9a04753d57"
      },
      "outputs": [
        {
          "data": {
            "text/plain": [
              "[array([[ 1,  2,  3],\n",
              "        [13, 14, 15]]),\n",
              " array([[ 4],\n",
              "        [16]]),\n",
              " array([[ 5,  6,  7,  8,  9, 10, 11, 12],\n",
              "        [17, 18, 19, 20, 21, 22, 23, 24]])]"
            ]
          },
          "execution_count": 69,
          "metadata": {},
          "output_type": "execute_result"
        }
      ],
      "source": [
        "np.hsplit(x, (3, 4))"
      ]
    },
    {
      "cell_type": "code",
      "execution_count": null,
      "id": "f61be8c5",
      "metadata": {
        "id": "f61be8c5"
      },
      "outputs": [],
      "source": [
        "a = np.array([[1, 2, 3, 4], [5, 6, 7, 8], [9, 10, 11, 12]])"
      ]
    },
    {
      "cell_type": "code",
      "execution_count": null,
      "id": "c5826396",
      "metadata": {
        "id": "c5826396",
        "outputId": "c857770f-5bfe-4f64-ab21-c1b41af6681a"
      },
      "outputs": [
        {
          "name": "stdout",
          "output_type": "stream",
          "text": [
            "[1 2 3 4]\n"
          ]
        }
      ],
      "source": [
        "b1 = a[0, :]\n",
        "print(b1)"
      ]
    },
    {
      "cell_type": "code",
      "execution_count": null,
      "id": "1a8d8c02",
      "metadata": {
        "id": "1a8d8c02",
        "outputId": "b9b9178a-a088-4a2c-edbb-fb15e6d3a0cc"
      },
      "outputs": [
        {
          "name": "stdout",
          "output_type": "stream",
          "text": [
            "[99  2  3  4]\n",
            "[[99  2  3  4]\n",
            " [ 5  6  7  8]\n",
            " [ 9 10 11 12]]\n"
          ]
        }
      ],
      "source": [
        "b1[0] = 99\n",
        "print(b1)\n",
        "print(a)"
      ]
    },
    {
      "cell_type": "code",
      "execution_count": null,
      "id": "0235d5aa",
      "metadata": {
        "id": "0235d5aa",
        "outputId": "2ab8cdee-bf17-4db5-872c-6464a8d14591"
      },
      "outputs": [
        {
          "data": {
            "text/plain": [
              "array([[99,  2,  3,  4],\n",
              "       [ 5,  6,  7,  8],\n",
              "       [ 9, 10, 11, 12]])"
            ]
          },
          "execution_count": 77,
          "metadata": {},
          "output_type": "execute_result"
        }
      ],
      "source": [
        "b2 = a.copy()\n",
        "b2"
      ]
    },
    {
      "cell_type": "markdown",
      "id": "a2794620",
      "metadata": {
        "id": "a2794620"
      },
      "source": [
        "# Basic array operations"
      ]
    },
    {
      "cell_type": "code",
      "execution_count": null,
      "id": "7a018886",
      "metadata": {
        "id": "7a018886",
        "outputId": "f84589c5-424a-4c99-f05b-a63875fef4ae"
      },
      "outputs": [
        {
          "data": {
            "text/plain": [
              "array([2, 3])"
            ]
          },
          "execution_count": 78,
          "metadata": {},
          "output_type": "execute_result"
        }
      ],
      "source": [
        "data = np.array([1, 2])\n",
        "ones = np.ones(2, dtype=int)\n",
        "data + ones"
      ]
    },
    {
      "cell_type": "code",
      "execution_count": null,
      "id": "13fea18c",
      "metadata": {
        "id": "13fea18c",
        "outputId": "ccb191a6-c436-427b-cff4-92b9ab3ed301"
      },
      "outputs": [
        {
          "name": "stdout",
          "output_type": "stream",
          "text": [
            "[0 1]\n",
            "[1 4]\n",
            "[1. 1.]\n"
          ]
        }
      ],
      "source": [
        "print(data - ones)\n",
        "print(data * data)\n",
        "print(data / data)"
      ]
    },
    {
      "cell_type": "code",
      "execution_count": null,
      "id": "a63c3ef7",
      "metadata": {
        "id": "a63c3ef7",
        "outputId": "b9a5fa3a-74b0-40af-a4a8-bd809dba67e4"
      },
      "outputs": [
        {
          "data": {
            "text/plain": [
              "np.int64(10)"
            ]
          },
          "execution_count": 82,
          "metadata": {},
          "output_type": "execute_result"
        }
      ],
      "source": [
        "a = np.array([1, 2, 3, 4])\n",
        "a.sum()"
      ]
    },
    {
      "cell_type": "code",
      "execution_count": null,
      "id": "17e7777c",
      "metadata": {
        "id": "17e7777c",
        "outputId": "9c0adc81-ae24-458c-af00-c5cddda6a246"
      },
      "outputs": [
        {
          "data": {
            "text/plain": [
              "array([[1, 1],\n",
              "       [2, 2]])"
            ]
          },
          "execution_count": 84,
          "metadata": {},
          "output_type": "execute_result"
        }
      ],
      "source": [
        "b = np.array([[1, 1], [2, 2]])\n",
        "b"
      ]
    },
    {
      "cell_type": "code",
      "execution_count": null,
      "id": "8f3923f8",
      "metadata": {
        "id": "8f3923f8",
        "outputId": "b54ac9e7-ebf6-40c5-9586-b8a72f1c0eca"
      },
      "outputs": [
        {
          "data": {
            "text/plain": [
              "array([3, 3])"
            ]
          },
          "execution_count": 85,
          "metadata": {},
          "output_type": "execute_result"
        }
      ],
      "source": [
        "b.sum(axis=0)"
      ]
    },
    {
      "cell_type": "code",
      "execution_count": null,
      "id": "03cb1aa1",
      "metadata": {
        "id": "03cb1aa1",
        "outputId": "8d859f0f-f736-416e-bde0-94b0eef961e2"
      },
      "outputs": [
        {
          "data": {
            "text/plain": [
              "array([2, 4])"
            ]
          },
          "execution_count": 86,
          "metadata": {},
          "output_type": "execute_result"
        }
      ],
      "source": [
        "b.sum(axis=1)"
      ]
    },
    {
      "cell_type": "markdown",
      "id": "84ecc399",
      "metadata": {
        "id": "84ecc399"
      },
      "source": [
        "# Broadcasting"
      ]
    },
    {
      "cell_type": "code",
      "execution_count": null,
      "id": "be06c40d",
      "metadata": {
        "id": "be06c40d",
        "outputId": "9df888fc-4050-4cc0-c535-6d1dd6502dd0"
      },
      "outputs": [
        {
          "data": {
            "text/plain": [
              "array([1.6, 3.2])"
            ]
          },
          "execution_count": 87,
          "metadata": {},
          "output_type": "execute_result"
        }
      ],
      "source": [
        "data = np.array([1.0, 2.0])\n",
        "data * 1.6"
      ]
    },
    {
      "cell_type": "markdown",
      "id": "d5fa257b",
      "metadata": {
        "id": "d5fa257b"
      },
      "source": [
        "# More useful array operations"
      ]
    },
    {
      "cell_type": "code",
      "execution_count": null,
      "id": "fe9735e6",
      "metadata": {
        "id": "fe9735e6",
        "outputId": "29efd40e-752b-41eb-c74b-ec0506fef1cc"
      },
      "outputs": [
        {
          "name": "stdout",
          "output_type": "stream",
          "text": [
            "2.0\n",
            "1.0\n",
            "3.0\n"
          ]
        }
      ],
      "source": [
        "print(data.max())\n",
        "print(data.min())\n",
        "print(data.sum())"
      ]
    },
    {
      "cell_type": "code",
      "execution_count": null,
      "id": "4ec2bcc4",
      "metadata": {
        "id": "4ec2bcc4"
      },
      "outputs": [],
      "source": [
        "a = np.array([[0.45053314, 0.17296777, 0.34376245, 0.5510652],\n",
        "              [0.54627315, 0.05093587, 0.40067661, 0.55645993],\n",
        "              [0.12697628, 0.82485143, 0.26590556, 0.56917101]])"
      ]
    },
    {
      "cell_type": "code",
      "execution_count": null,
      "id": "840f2152",
      "metadata": {
        "id": "840f2152",
        "outputId": "10126c3a-061e-486e-e4b3-21a0e0edecaa"
      },
      "outputs": [
        {
          "data": {
            "text/plain": [
              "np.float64(4.8595784)"
            ]
          },
          "execution_count": 90,
          "metadata": {},
          "output_type": "execute_result"
        }
      ],
      "source": [
        "a.sum()"
      ]
    },
    {
      "cell_type": "code",
      "execution_count": null,
      "id": "787ec4ed",
      "metadata": {
        "id": "787ec4ed",
        "outputId": "d9b0f780-641a-459d-9ff6-184e7dd5dac3"
      },
      "outputs": [
        {
          "data": {
            "text/plain": [
              "np.float64(0.05093587)"
            ]
          },
          "execution_count": 91,
          "metadata": {},
          "output_type": "execute_result"
        }
      ],
      "source": [
        "a.min()"
      ]
    },
    {
      "cell_type": "code",
      "execution_count": null,
      "id": "2924fdb9",
      "metadata": {
        "id": "2924fdb9",
        "outputId": "38e70232-7726-43c9-ff4c-c80348d36c2f"
      },
      "outputs": [
        {
          "data": {
            "text/plain": [
              "array([0.12697628, 0.05093587, 0.26590556, 0.5510652 ])"
            ]
          },
          "execution_count": 92,
          "metadata": {},
          "output_type": "execute_result"
        }
      ],
      "source": [
        "a.min(axis=0)"
      ]
    },
    {
      "cell_type": "markdown",
      "id": "6fe97abd",
      "metadata": {
        "id": "6fe97abd"
      },
      "source": [
        "# Creating matrices"
      ]
    },
    {
      "cell_type": "code",
      "execution_count": null,
      "id": "9278d1fe",
      "metadata": {
        "id": "9278d1fe",
        "outputId": "4f2c7a3a-f799-4c15-a82c-80dc05d7de85"
      },
      "outputs": [
        {
          "data": {
            "text/plain": [
              "array([[1, 2],\n",
              "       [3, 4],\n",
              "       [5, 6]])"
            ]
          },
          "execution_count": 93,
          "metadata": {},
          "output_type": "execute_result"
        }
      ],
      "source": [
        "data = np.array([[1, 2], [3, 4], [5, 6]])\n",
        "data"
      ]
    },
    {
      "cell_type": "code",
      "execution_count": null,
      "id": "313c6797",
      "metadata": {
        "id": "313c6797",
        "outputId": "1dab5405-3587-4db4-e49d-2e97163f63c3"
      },
      "outputs": [
        {
          "name": "stdout",
          "output_type": "stream",
          "text": [
            "2\n",
            "[[3 4]\n",
            " [5 6]]\n",
            "[1 3]\n"
          ]
        }
      ],
      "source": [
        "print(data[0, 1])\n",
        "print(data[1:3])\n",
        "print(data[0:2, 0])"
      ]
    },
    {
      "cell_type": "code",
      "execution_count": null,
      "id": "42040243",
      "metadata": {
        "id": "42040243",
        "outputId": "e563a5fa-8eec-45e0-ab45-69d0be0b0104"
      },
      "outputs": [
        {
          "name": "stdout",
          "output_type": "stream",
          "text": [
            "6\n",
            "1\n",
            "21\n"
          ]
        }
      ],
      "source": [
        "print(data.max())\n",
        "print(data.min())\n",
        "print(data.sum())"
      ]
    },
    {
      "cell_type": "code",
      "execution_count": null,
      "id": "9448afb9",
      "metadata": {
        "id": "9448afb9",
        "outputId": "c85de75e-e9f9-4456-8139-8410653e11ef"
      },
      "outputs": [
        {
          "data": {
            "text/plain": [
              "array([[1, 2],\n",
              "       [5, 3],\n",
              "       [4, 6]])"
            ]
          },
          "execution_count": 100,
          "metadata": {},
          "output_type": "execute_result"
        }
      ],
      "source": [
        "data = np.array([[1, 2], [5, 3], [4, 6]])\n",
        "data"
      ]
    },
    {
      "cell_type": "code",
      "execution_count": null,
      "id": "d250bb69",
      "metadata": {
        "id": "d250bb69",
        "outputId": "4995530d-36db-4899-da8e-32a102f999e1"
      },
      "outputs": [
        {
          "name": "stdout",
          "output_type": "stream",
          "text": [
            "[5 6]\n",
            "[2 5 6]\n"
          ]
        }
      ],
      "source": [
        "print(data.max(axis=0))\n",
        "print(data.max(axis=1))"
      ]
    },
    {
      "cell_type": "code",
      "execution_count": null,
      "id": "71a31124",
      "metadata": {
        "id": "71a31124",
        "outputId": "6bc3c3b4-d97e-49d6-c14c-f85b53238c17"
      },
      "outputs": [
        {
          "data": {
            "text/plain": [
              "array([[2, 3],\n",
              "       [4, 5]])"
            ]
          },
          "execution_count": 101,
          "metadata": {},
          "output_type": "execute_result"
        }
      ],
      "source": [
        "data = np.array([[1, 2], [3, 4]])\n",
        "ones = np.array([[1, 1], [1, 1]])\n",
        "data + ones"
      ]
    },
    {
      "cell_type": "code",
      "execution_count": null,
      "id": "a5ab7e60",
      "metadata": {
        "id": "a5ab7e60",
        "outputId": "f387732d-7c4a-4306-b6a6-27636e59d929"
      },
      "outputs": [
        {
          "data": {
            "text/plain": [
              "array([[2, 3],\n",
              "       [4, 5],\n",
              "       [6, 7]])"
            ]
          },
          "execution_count": 102,
          "metadata": {},
          "output_type": "execute_result"
        }
      ],
      "source": [
        "data = np.array([[1, 2], [3, 4], [5, 6]])\n",
        "ones_row = np.array([[1, 1]])\n",
        "data + ones_row"
      ]
    },
    {
      "cell_type": "code",
      "execution_count": null,
      "id": "774b1be3",
      "metadata": {
        "id": "774b1be3",
        "outputId": "f4a0205f-9662-484f-b9ca-37ec09056fb4"
      },
      "outputs": [
        {
          "data": {
            "text/plain": [
              "array([[[1., 1.],\n",
              "        [1., 1.],\n",
              "        [1., 1.]],\n",
              "\n",
              "       [[1., 1.],\n",
              "        [1., 1.],\n",
              "        [1., 1.]],\n",
              "\n",
              "       [[1., 1.],\n",
              "        [1., 1.],\n",
              "        [1., 1.]],\n",
              "\n",
              "       [[1., 1.],\n",
              "        [1., 1.],\n",
              "        [1., 1.]]])"
            ]
          },
          "execution_count": 103,
          "metadata": {},
          "output_type": "execute_result"
        }
      ],
      "source": [
        "np.ones((4, 3, 2))"
      ]
    },
    {
      "cell_type": "code",
      "execution_count": null,
      "id": "9dc21bf3",
      "metadata": {
        "id": "9dc21bf3",
        "outputId": "64df6dd6-1371-4b5c-ed6a-29e629a1162f"
      },
      "outputs": [
        {
          "data": {
            "text/plain": [
              "array([0.07290139, 0.83226504, 0.3920466 ])"
            ]
          },
          "execution_count": 104,
          "metadata": {},
          "output_type": "execute_result"
        }
      ],
      "source": [
        "np.ones(3)\n",
        "np.zeros(3)\n",
        "rng = np.random.default_rng()  # the simplest way to generate random numbers\n",
        "rng.random(3)"
      ]
    },
    {
      "cell_type": "code",
      "execution_count": null,
      "id": "30dcccb8",
      "metadata": {
        "id": "30dcccb8",
        "outputId": "6de79ddf-4849-4f26-8fe2-e6fe272ee38b"
      },
      "outputs": [
        {
          "data": {
            "text/plain": [
              "array([[0.05066353, 0.84694018],\n",
              "       [0.61780991, 0.74580067],\n",
              "       [0.20028334, 0.17433835]])"
            ]
          },
          "execution_count": 105,
          "metadata": {},
          "output_type": "execute_result"
        }
      ],
      "source": [
        "np.ones((3, 2))\n",
        "np.zeros((3, 2))\n",
        "rng.random((3, 2))"
      ]
    },
    {
      "cell_type": "markdown",
      "id": "3fad831b",
      "metadata": {
        "id": "3fad831b"
      },
      "source": [
        "# Generating random numbers"
      ]
    },
    {
      "cell_type": "code",
      "execution_count": null,
      "id": "a52de7c2",
      "metadata": {
        "id": "a52de7c2",
        "outputId": "8a8e4327-8ef7-4cdb-d0b2-d4450b22d747"
      },
      "outputs": [
        {
          "data": {
            "text/plain": [
              "array([[4, 1, 1, 0],\n",
              "       [4, 1, 3, 0]])"
            ]
          },
          "execution_count": 106,
          "metadata": {},
          "output_type": "execute_result"
        }
      ],
      "source": [
        "rng.integers(5, size=(2, 4))"
      ]
    },
    {
      "cell_type": "markdown",
      "id": "fddf0a23",
      "metadata": {
        "id": "fddf0a23"
      },
      "source": [
        "# How to get unique items and counts"
      ]
    },
    {
      "cell_type": "code",
      "execution_count": null,
      "id": "2bf37587",
      "metadata": {
        "id": "2bf37587"
      },
      "outputs": [],
      "source": [
        "a = np.array([11, 11, 12, 13, 14, 15, 16, 17, 12, 13, 11, 14, 18, 19, 20])"
      ]
    },
    {
      "cell_type": "code",
      "execution_count": null,
      "id": "0e327952",
      "metadata": {
        "id": "0e327952",
        "outputId": "bfb21045-de73-4716-c6ff-c12482395c13"
      },
      "outputs": [
        {
          "name": "stdout",
          "output_type": "stream",
          "text": [
            "[11 12 13 14 15 16 17 18 19 20]\n"
          ]
        }
      ],
      "source": [
        "unique_values = np.unique(a)\n",
        "print(unique_values)"
      ]
    },
    {
      "cell_type": "code",
      "execution_count": null,
      "id": "57e36f40",
      "metadata": {
        "id": "57e36f40",
        "outputId": "ffc8dcd8-6506-4ea3-ec92-c177ab00088c"
      },
      "outputs": [
        {
          "name": "stdout",
          "output_type": "stream",
          "text": [
            "[ 0  2  3  4  5  6  7 12 13 14]\n"
          ]
        }
      ],
      "source": [
        "unique_values, indices_list = np.unique(a, return_index=True)\n",
        "print(indices_list)"
      ]
    },
    {
      "cell_type": "code",
      "execution_count": null,
      "id": "7e2a220f",
      "metadata": {
        "id": "7e2a220f",
        "outputId": "e5fff2b2-5cfc-4db5-e6dc-42a768655db9"
      },
      "outputs": [
        {
          "name": "stdout",
          "output_type": "stream",
          "text": [
            "[3 2 2 2 1 1 1 1 1 1]\n"
          ]
        }
      ],
      "source": [
        "unique_values, occurrence_count = np.unique(a, return_counts=True)\n",
        "print(occurrence_count)"
      ]
    },
    {
      "cell_type": "code",
      "execution_count": null,
      "id": "1f95c37d",
      "metadata": {
        "id": "1f95c37d"
      },
      "outputs": [],
      "source": [
        "a_2d = np.array([[1, 2, 3, 4], [5, 6, 7, 8], [9, 10, 11, 12], [1, 2, 3, 4]])"
      ]
    },
    {
      "cell_type": "code",
      "execution_count": null,
      "id": "ee52ec16",
      "metadata": {
        "id": "ee52ec16",
        "outputId": "23b2b583-9b00-4538-8d78-5a42baf407ee"
      },
      "outputs": [
        {
          "name": "stdout",
          "output_type": "stream",
          "text": [
            "[ 1  2  3  4  5  6  7  8  9 10 11 12]\n"
          ]
        }
      ],
      "source": [
        "unique_values = np.unique(a_2d)\n",
        "print(unique_values)"
      ]
    },
    {
      "cell_type": "code",
      "execution_count": null,
      "id": "15ccfb0a",
      "metadata": {
        "id": "15ccfb0a",
        "outputId": "3e168a99-dedf-42ac-873c-fa5a19badb9b"
      },
      "outputs": [
        {
          "name": "stdout",
          "output_type": "stream",
          "text": [
            "[[ 1  2  3  4]\n",
            " [ 5  6  7  8]\n",
            " [ 9 10 11 12]]\n"
          ]
        }
      ],
      "source": [
        "unique_rows = np.unique(a_2d, axis=0)\n",
        "print(unique_rows)"
      ]
    },
    {
      "cell_type": "code",
      "execution_count": null,
      "id": "d59f22c8",
      "metadata": {
        "id": "d59f22c8",
        "outputId": "7b76cc47-409f-42b4-fee1-1836564e7a8a"
      },
      "outputs": [
        {
          "name": "stdout",
          "output_type": "stream",
          "text": [
            "[[ 1  2  3  4]\n",
            " [ 5  6  7  8]\n",
            " [ 9 10 11 12]]\n",
            "[0 1 2]\n",
            "[2 1 1]\n"
          ]
        }
      ],
      "source": [
        "unique_rows, indices, occurrence_count = np.unique(\n",
        "     a_2d, axis=0, return_counts=True, return_index=True)\n",
        "print(unique_rows)\n",
        "print(indices)\n",
        "print(occurrence_count)"
      ]
    },
    {
      "cell_type": "markdown",
      "id": "7c40f9fb",
      "metadata": {
        "id": "7c40f9fb"
      },
      "source": [
        "# Transposing and reshaping a matrix"
      ]
    },
    {
      "cell_type": "code",
      "execution_count": null,
      "id": "c4cdeca3",
      "metadata": {
        "id": "c4cdeca3",
        "outputId": "1a3fb768-0721-4375-c9cc-072bd2a32d3d"
      },
      "outputs": [
        {
          "data": {
            "text/plain": [
              "array([[1, 2],\n",
              "       [3, 4],\n",
              "       [5, 6]])"
            ]
          },
          "execution_count": 117,
          "metadata": {},
          "output_type": "execute_result"
        }
      ],
      "source": [
        "data.reshape(2, 3)\n",
        "data.reshape(3, 2)"
      ]
    },
    {
      "cell_type": "code",
      "execution_count": null,
      "id": "c404a572",
      "metadata": {
        "id": "c404a572",
        "outputId": "267b1d18-8a1f-41af-fb1f-f90bf1e52f7d"
      },
      "outputs": [
        {
          "data": {
            "text/plain": [
              "array([[0, 1, 2],\n",
              "       [3, 4, 5]])"
            ]
          },
          "execution_count": 118,
          "metadata": {},
          "output_type": "execute_result"
        }
      ],
      "source": [
        "arr = np.arange(6).reshape((2, 3))\n",
        "arr"
      ]
    },
    {
      "cell_type": "code",
      "execution_count": null,
      "id": "69f62ddc",
      "metadata": {
        "id": "69f62ddc",
        "outputId": "e5452b11-c38e-4b6f-bf9c-76400fe21027"
      },
      "outputs": [
        {
          "data": {
            "text/plain": [
              "array([[0, 3],\n",
              "       [1, 4],\n",
              "       [2, 5]])"
            ]
          },
          "execution_count": 119,
          "metadata": {},
          "output_type": "execute_result"
        }
      ],
      "source": [
        "arr.T"
      ]
    },
    {
      "cell_type": "markdown",
      "id": "668b7164",
      "metadata": {
        "id": "668b7164"
      },
      "source": [
        "# How to reverse an array"
      ]
    },
    {
      "cell_type": "code",
      "execution_count": null,
      "id": "8a432d2f",
      "metadata": {
        "id": "8a432d2f"
      },
      "outputs": [],
      "source": [
        "arr = np.array([1, 2, 3, 4, 5, 6, 7, 8])"
      ]
    },
    {
      "cell_type": "code",
      "execution_count": null,
      "id": "8cf450a2",
      "metadata": {
        "id": "8cf450a2"
      },
      "outputs": [],
      "source": [
        "reversed_arr = np.flip(arr)"
      ]
    },
    {
      "cell_type": "code",
      "execution_count": null,
      "id": "362e0f79",
      "metadata": {
        "id": "362e0f79",
        "outputId": "fbeee872-916d-4f56-a130-af3d583ed158"
      },
      "outputs": [
        {
          "name": "stdout",
          "output_type": "stream",
          "text": [
            "Reversed Array:  [8 7 6 5 4 3 2 1]\n"
          ]
        }
      ],
      "source": [
        "print('Reversed Array: ', reversed_arr)"
      ]
    },
    {
      "cell_type": "code",
      "execution_count": null,
      "id": "4c883a08",
      "metadata": {
        "id": "4c883a08"
      },
      "outputs": [],
      "source": [
        "arr_2d = np.array([[1, 2, 3, 4], [5, 6, 7, 8], [9, 10, 11, 12]])"
      ]
    },
    {
      "cell_type": "code",
      "execution_count": null,
      "id": "7c8b39bc",
      "metadata": {
        "id": "7c8b39bc",
        "outputId": "64ba656b-c0f8-42ac-8642-8e2d2a8c53ee"
      },
      "outputs": [
        {
          "name": "stdout",
          "output_type": "stream",
          "text": [
            "[[12 11 10  9]\n",
            " [ 8  7  6  5]\n",
            " [ 4  3  2  1]]\n"
          ]
        }
      ],
      "source": [
        "reversed_arr = np.flip(arr_2d)\n",
        "print(reversed_arr)"
      ]
    },
    {
      "cell_type": "code",
      "execution_count": null,
      "id": "f2e81e52",
      "metadata": {
        "id": "f2e81e52",
        "outputId": "6e5b6d0f-ea0c-441a-87a5-f185a19f680f"
      },
      "outputs": [
        {
          "name": "stdout",
          "output_type": "stream",
          "text": [
            "[[ 9 10 11 12]\n",
            " [ 5  6  7  8]\n",
            " [ 1  2  3  4]]\n"
          ]
        }
      ],
      "source": [
        "reversed_arr_rows = np.flip(arr_2d, axis=0)\n",
        "print(reversed_arr_rows)"
      ]
    },
    {
      "cell_type": "code",
      "execution_count": null,
      "id": "92001e10",
      "metadata": {
        "id": "92001e10",
        "outputId": "0f5586ac-cbdc-42e6-9e3f-b386fb4c9820"
      },
      "outputs": [
        {
          "name": "stdout",
          "output_type": "stream",
          "text": [
            "[[ 4  3  2  1]\n",
            " [ 8  7  6  5]\n",
            " [12 11 10  9]]\n"
          ]
        }
      ],
      "source": [
        "reversed_arr_columns = np.flip(arr_2d, axis=1)\n",
        "print(reversed_arr_columns)"
      ]
    },
    {
      "cell_type": "code",
      "execution_count": null,
      "id": "5380a1a9",
      "metadata": {
        "id": "5380a1a9",
        "outputId": "37a5bdc6-4e9d-4e44-fdb3-ba8a86befbb0"
      },
      "outputs": [
        {
          "name": "stdout",
          "output_type": "stream",
          "text": [
            "[[ 1  2  3  4]\n",
            " [ 8  7  6  5]\n",
            " [ 9 10 11 12]]\n"
          ]
        }
      ],
      "source": [
        "arr_2d[1] = np.flip(arr_2d[1])\n",
        "print(arr_2d)"
      ]
    },
    {
      "cell_type": "code",
      "execution_count": null,
      "id": "4840a198",
      "metadata": {
        "id": "4840a198",
        "outputId": "0fa3a4d4-d052-46e3-a769-44aaaff3cbde"
      },
      "outputs": [
        {
          "name": "stdout",
          "output_type": "stream",
          "text": [
            "[[ 1 10  3  4]\n",
            " [ 8  7  6  5]\n",
            " [ 9  2 11 12]]\n"
          ]
        }
      ],
      "source": [
        "arr_2d[:,1] = np.flip(arr_2d[:,1])\n",
        "print(arr_2d)"
      ]
    },
    {
      "cell_type": "markdown",
      "id": "a370b144",
      "metadata": {
        "id": "a370b144"
      },
      "source": [
        "# Reshaping and flattening multidimensional arrays"
      ]
    },
    {
      "cell_type": "code",
      "execution_count": null,
      "id": "cb528ee3",
      "metadata": {
        "id": "cb528ee3"
      },
      "outputs": [],
      "source": [
        "x = np.array([[1 , 2, 3, 4], [5, 6, 7, 8], [9, 10, 11, 12]])"
      ]
    },
    {
      "cell_type": "code",
      "execution_count": null,
      "id": "4ddf9095",
      "metadata": {
        "id": "4ddf9095",
        "outputId": "b53d34cc-c320-4274-a1ca-9942fd56d952"
      },
      "outputs": [
        {
          "data": {
            "text/plain": [
              "array([ 1,  2,  3,  4,  5,  6,  7,  8,  9, 10, 11, 12])"
            ]
          },
          "execution_count": 130,
          "metadata": {},
          "output_type": "execute_result"
        }
      ],
      "source": [
        "x.flatten()"
      ]
    },
    {
      "cell_type": "code",
      "execution_count": null,
      "id": "d82167d8",
      "metadata": {
        "id": "d82167d8",
        "outputId": "dc16f222-c7a1-4447-8305-685cd00df5c7"
      },
      "outputs": [
        {
          "name": "stdout",
          "output_type": "stream",
          "text": [
            "[[ 1  2  3  4]\n",
            " [ 5  6  7  8]\n",
            " [ 9 10 11 12]]\n",
            "[99  2  3  4  5  6  7  8  9 10 11 12]\n"
          ]
        }
      ],
      "source": [
        "a1 = x.flatten()\n",
        "a1[0] = 99\n",
        "print(x)  # Original array\n",
        "print(a1)  # New array"
      ]
    },
    {
      "cell_type": "code",
      "execution_count": null,
      "id": "71617499",
      "metadata": {
        "id": "71617499",
        "outputId": "1ee4f6f5-8200-4c45-8c13-076945e4b137"
      },
      "outputs": [
        {
          "name": "stdout",
          "output_type": "stream",
          "text": [
            "[[98  2  3  4]\n",
            " [ 5  6  7  8]\n",
            " [ 9 10 11 12]]\n",
            "[98  2  3  4  5  6  7  8  9 10 11 12]\n"
          ]
        }
      ],
      "source": [
        "a2 = x.ravel()\n",
        "a2[0] = 98\n",
        "print(x)  # Original array\n",
        "print(a2)  # New array"
      ]
    }
  ],
  "metadata": {
    "kernelspec": {
      "display_name": "mot",
      "language": "python",
      "name": "python3"
    },
    "language_info": {
      "codemirror_mode": {
        "name": "ipython",
        "version": 3
      },
      "file_extension": ".py",
      "mimetype": "text/x-python",
      "name": "python",
      "nbconvert_exporter": "python",
      "pygments_lexer": "ipython3",
      "version": "3.13.2"
    },
    "colab": {
      "provenance": [],
      "include_colab_link": true
    }
  },
  "nbformat": 4,
  "nbformat_minor": 5
}