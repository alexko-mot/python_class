{
  "cells": [
    {
      "cell_type": "markdown",
      "metadata": {
        "id": "view-in-github",
        "colab_type": "text"
      },
      "source": [
        "<a href=\"https://colab.research.google.com/github/alexko-mot/python_class/blob/main/W9_KOSEOKHO_2024113846.ipynb\" target=\"_parent\"><img src=\"https://colab.research.google.com/assets/colab-badge.svg\" alt=\"Open In Colab\"/></a>"
      ]
    },
    {
      "cell_type": "code",
      "execution_count": null,
      "id": "46665978",
      "metadata": {
        "id": "46665978",
        "outputId": "1a3d5015-da30-48cd-966e-4119cb7cbd56"
      },
      "outputs": [
        {
          "data": {
            "text/plain": [
              "[1, 2, 3, 4, 5]"
            ]
          },
          "execution_count": 1,
          "metadata": {},
          "output_type": "execute_result"
        }
      ],
      "source": [
        "number_list = []\n",
        "number_list.append(1)\n",
        "number_list.append(2)\n",
        "number_list.append(3)\n",
        "number_list.append(4)\n",
        "number_list.append(5)\n",
        "number_list"
      ]
    },
    {
      "cell_type": "code",
      "execution_count": null,
      "id": "dd044b56",
      "metadata": {
        "id": "dd044b56",
        "outputId": "86fcf5ef-d3ad-41e7-8476-0f2ec5726d1e"
      },
      "outputs": [
        {
          "data": {
            "text/plain": [
              "[1, 2, 3, 4, 5]"
            ]
          },
          "execution_count": 4,
          "metadata": {},
          "output_type": "execute_result"
        }
      ],
      "source": [
        "number_list = []\n",
        "for number in range(1, 6):\n",
        "    number_list.append(number)\n",
        "number_list"
      ]
    },
    {
      "cell_type": "code",
      "execution_count": null,
      "id": "8f19ddc4",
      "metadata": {
        "id": "8f19ddc4",
        "outputId": "ba7b258b-2a1f-4e65-a67f-51868ac5c75a"
      },
      "outputs": [
        {
          "data": {
            "text/plain": [
              "[1, 2, 3, 4, 5]"
            ]
          },
          "execution_count": 5,
          "metadata": {},
          "output_type": "execute_result"
        }
      ],
      "source": [
        "number_list = list(range(1, 6))\n",
        "number_list"
      ]
    },
    {
      "cell_type": "code",
      "execution_count": null,
      "id": "08a5f2d6",
      "metadata": {
        "id": "08a5f2d6",
        "outputId": "14330449-ee00-4f2a-8434-1f548f4366f6"
      },
      "outputs": [
        {
          "data": {
            "text/plain": [
              "[1, 2, 3, 4, 5]"
            ]
          },
          "execution_count": 6,
          "metadata": {},
          "output_type": "execute_result"
        }
      ],
      "source": [
        "number_list = [number for number in range(1,6)]\n",
        "number_list"
      ]
    },
    {
      "cell_type": "code",
      "execution_count": null,
      "id": "3d9eaf3b",
      "metadata": {
        "id": "3d9eaf3b",
        "outputId": "85916158-b911-4547-b963-c28c3da2975a"
      },
      "outputs": [
        {
          "data": {
            "text/plain": [
              "[0, 1, 2, 3, 4]"
            ]
          },
          "execution_count": 7,
          "metadata": {},
          "output_type": "execute_result"
        }
      ],
      "source": [
        "number_list = [number-1 for number in range(1,6)]\n",
        "number_list"
      ]
    },
    {
      "cell_type": "code",
      "execution_count": null,
      "id": "69d23e5c",
      "metadata": {
        "id": "69d23e5c",
        "outputId": "7cb71ee2-f1a7-4c13-c878-090deecc6ed8"
      },
      "outputs": [
        {
          "data": {
            "text/plain": [
              "[1, 3, 5]"
            ]
          },
          "execution_count": 8,
          "metadata": {},
          "output_type": "execute_result"
        }
      ],
      "source": [
        "a_list = [number for number in range(1,6) if number % 2 == 1]\n",
        "a_list"
      ]
    },
    {
      "cell_type": "code",
      "execution_count": null,
      "id": "c1ca6015",
      "metadata": {
        "id": "c1ca6015",
        "outputId": "6153047f-f0fa-46ed-c144-9b45ea29c402"
      },
      "outputs": [
        {
          "data": {
            "text/plain": [
              "[1, 3, 5]"
            ]
          },
          "execution_count": 10,
          "metadata": {},
          "output_type": "execute_result"
        }
      ],
      "source": [
        "a_list = []\n",
        "for number in range(1,6):\n",
        "    if number%2 == 1:\n",
        "        a_list.append(number)\n",
        "a_list"
      ]
    },
    {
      "cell_type": "code",
      "execution_count": null,
      "id": "2338b3cc",
      "metadata": {
        "id": "2338b3cc",
        "outputId": "7029a50f-4a73-4460-96ff-2a9751398299"
      },
      "outputs": [
        {
          "data": {
            "text/plain": [
              "['i', 'love', 'python', 'soooooo', 'much!!!']"
            ]
          },
          "execution_count": 11,
          "metadata": {},
          "output_type": "execute_result"
        }
      ],
      "source": [
        "sentence = ['I', 'Love', 'Python', 'Soooooo', 'MUCH!!!']\n",
        "# 함수 적용\n",
        "[word.lower() for word in sentence]\n"
      ]
    },
    {
      "cell_type": "code",
      "execution_count": null,
      "id": "c6fa947b",
      "metadata": {
        "id": "c6fa947b",
        "outputId": "dad5608c-b907-4364-d0c5-4cddc6a4fd52"
      },
      "outputs": [
        {
          "data": {
            "text/plain": [
              "['Soooooo', 'MUCH!!!']"
            ]
          },
          "execution_count": 12,
          "metadata": {},
          "output_type": "execute_result"
        }
      ],
      "source": [
        "# 조건 적용\n",
        "[word for word in sentence if len(word) > 6]"
      ]
    },
    {
      "cell_type": "code",
      "execution_count": null,
      "id": "c43a55ba",
      "metadata": {
        "id": "c43a55ba",
        "outputId": "e7fb5276-1d1d-47f7-8cbe-332666a50e88"
      },
      "outputs": [
        {
          "data": {
            "text/plain": [
              "[(0, 0, 0),\n",
              " (1, 1, 1),\n",
              " (2, 4, 8),\n",
              " (3, 9, 27),\n",
              " (4, 16, 64),\n",
              " (5, 25, 125),\n",
              " (6, 36, 216),\n",
              " (7, 49, 343),\n",
              " (8, 64, 512),\n",
              " (9, 81, 729)]"
            ]
          },
          "execution_count": 13,
          "metadata": {},
          "output_type": "execute_result"
        }
      ],
      "source": [
        "# 함수 적용하여 튜플로 저장\n",
        "[(x, x ** 2, x ** 3) for x in range(10)]"
      ]
    },
    {
      "cell_type": "code",
      "execution_count": null,
      "id": "3337db3b",
      "metadata": {
        "id": "3337db3b",
        "outputId": "aa0980a7-9a49-46ca-bdf1-1e3226e0c52a"
      },
      "outputs": [
        {
          "name": "stdout",
          "output_type": "stream",
          "text": [
            "1 1\n",
            "1 2\n",
            "2 1\n",
            "2 2\n",
            "3 1\n",
            "3 2\n"
          ]
        }
      ],
      "source": [
        "rows = range(1,4)\n",
        "cols = range(1,3)\n",
        "for row in rows:\n",
        "    for col in cols:\n",
        "        print(row, col)"
      ]
    },
    {
      "cell_type": "code",
      "execution_count": null,
      "id": "7e0091a5",
      "metadata": {
        "id": "7e0091a5",
        "outputId": "0cb25657-5426-4514-a1dc-dc0ff0dbcd29"
      },
      "outputs": [
        {
          "name": "stdout",
          "output_type": "stream",
          "text": [
            "(1, 1)\n",
            "(1, 2)\n",
            "(2, 1)\n",
            "(2, 2)\n",
            "(3, 1)\n",
            "(3, 2)\n"
          ]
        }
      ],
      "source": [
        "rows = range(1,4)\n",
        "cols = range(1,3)\n",
        "cells = [(row, col) for row in rows for col in cols]\n",
        "for cell in cells:\n",
        "    print(cell)"
      ]
    },
    {
      "cell_type": "code",
      "execution_count": null,
      "id": "aa91de6a",
      "metadata": {
        "id": "aa91de6a",
        "outputId": "daf4d325-be39-428d-e778-b3a12c8c6820"
      },
      "outputs": [
        {
          "data": {
            "text/plain": [
              "[(1, 0),\n",
              " (2, 0),\n",
              " (2, 1),\n",
              " (3, 0),\n",
              " (3, 1),\n",
              " (3, 2),\n",
              " (4, 0),\n",
              " (4, 1),\n",
              " (4, 2),\n",
              " (4, 3)]"
            ]
          },
          "execution_count": 16,
          "metadata": {},
          "output_type": "execute_result"
        }
      ],
      "source": [
        "# 다음은 어떤 결과가?\n",
        "[(i,j) for i in range(5) for j in range(i)]"
      ]
    },
    {
      "cell_type": "code",
      "execution_count": null,
      "id": "09014aa9",
      "metadata": {
        "id": "09014aa9",
        "outputId": "756bf002-82d6-46ee-8bf0-a291184d8b1d"
      },
      "outputs": [
        {
          "data": {
            "text/plain": [
              "{'l': 1, 'e': 2, 't': 2, 'r': 1, 's': 1}"
            ]
          },
          "execution_count": 17,
          "metadata": {},
          "output_type": "execute_result"
        }
      ],
      "source": [
        "word = 'letters'\n",
        "letter_counts = {letter: word.count(letter) for letter in word}\n",
        "letter_counts"
      ]
    },
    {
      "cell_type": "code",
      "execution_count": null,
      "id": "7005cf5f",
      "metadata": {
        "id": "7005cf5f",
        "outputId": "9e227b44-6d6d-480c-8042-e6c8696b1f61"
      },
      "outputs": [
        {
          "data": {
            "text/plain": [
              "{'r': 1, 't': 2, 'e': 2, 'l': 1, 's': 1}"
            ]
          },
          "execution_count": 19,
          "metadata": {},
          "output_type": "execute_result"
        }
      ],
      "source": [
        "word = 'letters'\n",
        "letter_counts = {letter: word.count(letter) for letter in set(word)}\n",
        "letter_counts"
      ]
    },
    {
      "cell_type": "code",
      "execution_count": null,
      "id": "b10a8716",
      "metadata": {
        "id": "b10a8716",
        "outputId": "e4cdb198-6d02-45bd-9228-a89cfb67b6e8"
      },
      "outputs": [
        {
          "data": {
            "text/plain": [
              "{1, 4}"
            ]
          },
          "execution_count": 20,
          "metadata": {},
          "output_type": "execute_result"
        }
      ],
      "source": [
        "a_set = {number for number in range(1,6) if number % 3 == 1}\n",
        "a_set"
      ]
    },
    {
      "cell_type": "code",
      "execution_count": null,
      "id": "efd2ba66",
      "metadata": {
        "id": "efd2ba66",
        "outputId": "01c511c1-04b4-45cf-f0e8-aea07183dfa7"
      },
      "outputs": [
        {
          "name": "stdout",
          "output_type": "stream",
          "text": [
            "Monday : drink coffee - eat banana - enjoy tiramisu\n",
            "Tuesday : drink tea - eat orange - enjoy ice cream\n",
            "Wednesday : drink beer - eat peach - enjoy pie\n"
          ]
        }
      ],
      "source": [
        "days = ['Monday', 'Tuesday', 'Wednesday']\n",
        "fruits = ['banana', 'orange', 'peach']\n",
        "drinks = ['coffee', 'tea', 'beer']\n",
        "desserts = ['tiramisu', 'ice cream', 'pie', 'pudding']\n",
        "for day, fruit, drink, dessert in zip(days, fruits, drinks, desserts):\n",
        "    print(day, \": drink\", drink, \"- eat\", fruit, \"- enjoy\", dessert)"
      ]
    },
    {
      "cell_type": "code",
      "execution_count": null,
      "id": "20db2450",
      "metadata": {
        "id": "20db2450",
        "outputId": "cc6080f0-7797-4df2-b1a2-00046d970071"
      },
      "outputs": [
        {
          "data": {
            "text/plain": [
              "[('Monday', 'Lundi'), ('Tuesday', 'Mardi'), ('Wednesday', 'Mercredi')]"
            ]
          },
          "execution_count": 22,
          "metadata": {},
          "output_type": "execute_result"
        }
      ],
      "source": [
        "english = 'Monday', 'Tuesday', 'Wednesday'\n",
        "french = 'Lundi', 'Mardi', 'Mercredi'\n",
        "list( zip(english, french) )"
      ]
    },
    {
      "cell_type": "code",
      "execution_count": null,
      "id": "37c06cd4",
      "metadata": {
        "id": "37c06cd4",
        "outputId": "8d6ba176-72ba-47ae-e0d6-ae30313fe54a"
      },
      "outputs": [
        {
          "data": {
            "text/plain": [
              "{'Monday': 'Lundi', 'Tuesday': 'Mardi', 'Wednesday': 'Mercredi'}"
            ]
          },
          "execution_count": 23,
          "metadata": {},
          "output_type": "execute_result"
        }
      ],
      "source": [
        "dict( zip(english, french) )"
      ]
    },
    {
      "cell_type": "code",
      "execution_count": null,
      "id": "06678e9e",
      "metadata": {
        "id": "06678e9e",
        "outputId": "8d3bc449-0fdc-4d73-e27f-3ebe5226e643"
      },
      "outputs": [
        {
          "data": {
            "text/plain": [
              "{'wine': 'chardonnay', 'entree': 'chicken', 'dessert': 'cake'}"
            ]
          },
          "execution_count": 25,
          "metadata": {},
          "output_type": "execute_result"
        }
      ],
      "source": [
        "# wine, entree, dessert를 받아서 딕셔너리로 만들어 반환하는 함수\n",
        "def menu(wine, entree, dessert):\n",
        "    return {'wine': wine, 'entree': entree, 'dessert': dessert}\n",
        "\n",
        "menu('chardonnay', 'chicken', 'cake')"
      ]
    },
    {
      "cell_type": "code",
      "execution_count": null,
      "id": "9b28b86a",
      "metadata": {
        "id": "9b28b86a"
      },
      "outputs": [],
      "source": [
        "# wine, entree, dessert를 받아서 딕셔너리로 만들어 반환하는 함수\n",
        "def menu(wine, entree, dessert):\n",
        "    return {'wine': wine, 'entree': entree, 'dessert': dessert}"
      ]
    },
    {
      "cell_type": "code",
      "execution_count": null,
      "id": "5c7b3850",
      "metadata": {
        "id": "5c7b3850",
        "outputId": "7063bfaa-2c7f-417a-91e6-29db1a025538"
      },
      "outputs": [
        {
          "data": {
            "text/plain": [
              "{'wine': 'bordeaux', 'entree': 'beef', 'dessert': 'bagel'}"
            ]
          },
          "execution_count": 28,
          "metadata": {},
          "output_type": "execute_result"
        }
      ],
      "source": [
        "menu(entree='beef', dessert='bagel', wine='bordeaux')"
      ]
    },
    {
      "cell_type": "code",
      "execution_count": null,
      "id": "14327a2c",
      "metadata": {
        "id": "14327a2c",
        "outputId": "065a7224-71ae-455c-a0c0-365b0d2209f3"
      },
      "outputs": [
        {
          "data": {
            "text/plain": [
              "{'wine': 'frontenac', 'entree': 'fish', 'dessert': 'flan'}"
            ]
          },
          "execution_count": 29,
          "metadata": {},
          "output_type": "execute_result"
        }
      ],
      "source": [
        "menu('frontenac', dessert='flan', entree='fish')"
      ]
    },
    {
      "cell_type": "code",
      "execution_count": null,
      "id": "ba4f8ad7",
      "metadata": {
        "id": "ba4f8ad7"
      },
      "outputs": [],
      "source": [
        "# dessert의 기본값을 정해줌\n",
        "def menu(wine, entree, dessert='pudding'):\n",
        "    return {'wine': wine, 'entree': entree, 'dessert': dessert}"
      ]
    },
    {
      "cell_type": "code",
      "execution_count": null,
      "id": "443f627e",
      "metadata": {
        "id": "443f627e",
        "outputId": "e3d66a93-dc44-4802-cd67-08b7285179fd"
      },
      "outputs": [
        {
          "data": {
            "text/plain": [
              "{'wine': 'chardonnay', 'entree': 'chicken', 'dessert': 'pudding'}"
            ]
          },
          "execution_count": 32,
          "metadata": {},
          "output_type": "execute_result"
        }
      ],
      "source": [
        "menu('chardonnay', 'chicken')"
      ]
    },
    {
      "cell_type": "code",
      "execution_count": null,
      "id": "8d0c9b0e",
      "metadata": {
        "id": "8d0c9b0e",
        "outputId": "11474d3e-1947-49e5-9ad5-239b899b14e2"
      },
      "outputs": [
        {
          "data": {
            "text/plain": [
              "{'wine': 'dunkelfelder', 'entree': 'duck', 'dessert': 'doughnut'}"
            ]
          },
          "execution_count": 33,
          "metadata": {},
          "output_type": "execute_result"
        }
      ],
      "source": [
        "menu('dunkelfelder', 'duck', 'doughnut')"
      ]
    },
    {
      "cell_type": "code",
      "execution_count": null,
      "id": "a259620c",
      "metadata": {
        "id": "a259620c"
      },
      "outputs": [],
      "source": [
        "def menu(price, wine='chardonnay', entree='chicken', dessert='pudding'):\n",
        "    return {'price': price, 'wine': wine, 'entree': entree, 'dessert': dessert}"
      ]
    },
    {
      "cell_type": "code",
      "execution_count": null,
      "id": "059d4c62",
      "metadata": {
        "id": "059d4c62",
        "outputId": "a5464e16-757b-42c7-cfcc-21bcadac67fa"
      },
      "outputs": [
        {
          "name": "stdout",
          "output_type": "stream",
          "text": [
            "{'price': 100, 'wine': 'chardonnay', 'entree': 'chicken', 'dessert': 'pudding'}\n",
            "{'price': 100, 'wine': 'chardonnay', 'entree': 'chicken', 'dessert': 'pudding'}\n",
            "{'price': 120, 'wine': 'chardonnay', 'entree': 'beef', 'dessert': 'pudding'}\n",
            "{'price': 110, 'wine': 'chardonnay', 'entree': 'chicken', 'dessert': 'bagel'}\n",
            "{'price': 'eighty', 'wine': 'saint-pierre', 'entree': 'fish', 'dessert': 'pudding'}\n",
            "{'price': 'hundred', 'wine': 'saint-pierre', 'entree': 'chicken', 'dessert': 'pudding'}\n"
          ]
        }
      ],
      "source": [
        "print( menu(100)                             )    # 1 위치 인자\n",
        "print( menu(price=100)                       )    # 1 키워드 인자\n",
        "print( menu(price=120, entree='beef')        )    # 2 키워드 인자\n",
        "print( menu(dessert='bagel', price=110)      )    # 2 키워드 인자\n",
        "print( menu('eighty', 'saint-pierre', 'fish') )    # 3 위치 인자\n",
        "print( menu('hundred', wine='saint-pierre')   )    # 1 위치 인자, 1 키워드 인자"
      ]
    },
    {
      "cell_type": "code",
      "execution_count": null,
      "id": "eb640a18",
      "metadata": {
        "id": "eb640a18",
        "outputId": "21377b83-f3b5-4627-c63c-0554cf091032"
      },
      "outputs": [
        {
          "ename": "SyntaxError",
          "evalue": "positional argument follows keyword argument (1788344801.py, line 2)",
          "output_type": "error",
          "traceback": [
            "  \u001b[36mCell\u001b[39m\u001b[36m \u001b[39m\u001b[32mIn[40]\u001b[39m\u001b[32m, line 2\u001b[39m\n\u001b[31m    \u001b[39m\u001b[31mmenu(price=100, 'saint-pierre') # 키워드 인자 할당 후, 위치 인자\u001b[39m\n                                  ^\n\u001b[31mSyntaxError\u001b[39m\u001b[31m:\u001b[39m positional argument follows keyword argument\n"
          ]
        }
      ],
      "source": [
        "menu()                          # price에 인자가 할당이 안됨\n",
        "menu(price=100, 'saint-pierre') # 키워드 인자 할당 후, 위치 인자\n",
        "menu(100, price=120)            # 같은 변수에 두 번 할당\n",
        "menu(main='cream pasta')        # 정의되지 않은 매개변수"
      ]
    },
    {
      "cell_type": "code",
      "execution_count": null,
      "id": "4a7f04a8",
      "metadata": {
        "id": "4a7f04a8",
        "outputId": "cbdfb67b-563d-4d0f-f9be-770586ee3baa"
      },
      "outputs": [
        {
          "ename": "TypeError",
          "evalue": "menu() missing 1 required positional argument: 'price'",
          "output_type": "error",
          "traceback": [
            "\u001b[31m---------------------------------------------------------------------------\u001b[39m",
            "\u001b[31mTypeError\u001b[39m                                 Traceback (most recent call last)",
            "\u001b[36mCell\u001b[39m\u001b[36m \u001b[39m\u001b[32mIn[41]\u001b[39m\u001b[32m, line 1\u001b[39m\n\u001b[32m----> \u001b[39m\u001b[32m1\u001b[39m menu()\n",
            "\u001b[31mTypeError\u001b[39m: menu() missing 1 required positional argument: 'price'"
          ]
        }
      ],
      "source": [
        "menu()"
      ]
    },
    {
      "cell_type": "code",
      "execution_count": null,
      "id": "a096aded",
      "metadata": {
        "id": "a096aded"
      },
      "outputs": [],
      "source": [
        "def echo(anything):\n",
        "    'echo returns its input argument'\n",
        "    return anything"
      ]
    },
    {
      "cell_type": "code",
      "execution_count": null,
      "id": "9ee53de5",
      "metadata": {
        "id": "9ee53de5"
      },
      "outputs": [],
      "source": [
        "def print_if_true(thing, check):\n",
        "    \"\"\"\n",
        "    Prints the first argument if a second argument is true.\n",
        "    The operation is:\n",
        "    1. Check whether the *second* argument is true.\n",
        "    2. If it is, print the *first* argument.\n",
        "    \"\"\"\n",
        "    if check:\n",
        "        print(thing)"
      ]
    },
    {
      "cell_type": "code",
      "execution_count": null,
      "id": "df536884",
      "metadata": {
        "id": "df536884",
        "outputId": "9c5a5447-4317-4e25-e89e-d9c6b89d26bb"
      },
      "outputs": [
        {
          "name": "stdout",
          "output_type": "stream",
          "text": [
            "Help on function echo in module __main__:\n",
            "\n",
            "echo(anything)\n",
            "    echo returns its input argument\n",
            "\n"
          ]
        }
      ],
      "source": [
        "help(echo)"
      ]
    },
    {
      "cell_type": "code",
      "execution_count": null,
      "id": "57f33a71",
      "metadata": {
        "id": "57f33a71",
        "outputId": "8320a7f0-a933-4704-f9cd-ef0dca8e9d0a"
      },
      "outputs": [
        {
          "name": "stdout",
          "output_type": "stream",
          "text": [
            "Hi\n"
          ]
        }
      ],
      "source": [
        "print_if_true('Hi', True)"
      ]
    }
  ],
  "metadata": {
    "kernelspec": {
      "display_name": "mot",
      "language": "python",
      "name": "python3"
    },
    "language_info": {
      "codemirror_mode": {
        "name": "ipython",
        "version": 3
      },
      "file_extension": ".py",
      "mimetype": "text/x-python",
      "name": "python",
      "nbconvert_exporter": "python",
      "pygments_lexer": "ipython3",
      "version": "3.13.2"
    },
    "colab": {
      "provenance": [],
      "include_colab_link": true
    }
  },
  "nbformat": 4,
  "nbformat_minor": 5
}