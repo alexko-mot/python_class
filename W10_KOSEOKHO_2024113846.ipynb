{
  "cells": [
    {
      "cell_type": "markdown",
      "metadata": {
        "id": "view-in-github",
        "colab_type": "text"
      },
      "source": [
        "<a href=\"https://colab.research.google.com/github/alexko-mot/python_class/blob/main/W10_KOSEOKHO_2024113846.ipynb\" target=\"_parent\"><img src=\"https://colab.research.google.com/assets/colab-badge.svg\" alt=\"Open In Colab\"/></a>"
      ]
    },
    {
      "cell_type": "markdown",
      "id": "2c7ce4b5",
      "metadata": {
        "id": "2c7ce4b5"
      },
      "source": [
        "# 10주차"
      ]
    },
    {
      "cell_type": "code",
      "execution_count": null,
      "id": "34e35e91",
      "metadata": {
        "id": "34e35e91",
        "outputId": "a76a1859-986d-4a1b-ddc4-4adf5339c3c5"
      },
      "outputs": [
        {
          "name": "stdout",
          "output_type": "stream",
          "text": [
            "3\n",
            "7\n"
          ]
        }
      ],
      "source": [
        "result = 0\n",
        "def adder(num):\n",
        "    global result\n",
        "    result += num\n",
        "    return result\n",
        "\n",
        "print(adder(3))\n",
        "print(adder(4))"
      ]
    },
    {
      "cell_type": "code",
      "execution_count": null,
      "id": "2d5b9feb",
      "metadata": {
        "id": "2d5b9feb",
        "outputId": "36b12272-4245-4370-ded0-56c35bab7bfc"
      },
      "outputs": [
        {
          "name": "stdout",
          "output_type": "stream",
          "text": [
            "3\n",
            "7\n",
            "3\n",
            "10\n"
          ]
        }
      ],
      "source": [
        "result1 = 0\n",
        "result2 = 0\n",
        "\n",
        "def adder1(num):\n",
        "    global result1\n",
        "    result1 += num\n",
        "    return result1\n",
        "\n",
        "def adder2(num):\n",
        "    global result2\n",
        "    result2 += num\n",
        "    return result2\n",
        "\n",
        "print(adder1(3))\n",
        "print(adder1(4))\n",
        "print(adder2(3))\n",
        "print(adder2(7))"
      ]
    },
    {
      "cell_type": "code",
      "execution_count": null,
      "id": "bd91deeb",
      "metadata": {
        "id": "bd91deeb",
        "outputId": "1d08798b-2b65-4525-8be7-8e6f7cd36c93"
      },
      "outputs": [
        {
          "name": "stdout",
          "output_type": "stream",
          "text": [
            "3\n",
            "7\n",
            "3\n",
            "10\n"
          ]
        }
      ],
      "source": [
        "class Calculator:\n",
        "    def __init__(self):\n",
        "        self.result = 0\n",
        "\n",
        "    def adder(self, num):\n",
        "        self.result += num\n",
        "        return self.result\n",
        "\n",
        "cal1 = Calculator()\n",
        "cal2 = Calculator()\n",
        "\n",
        "print(cal1.adder(3))\n",
        "print(cal1.adder(4))\n",
        "print(cal2.adder(3))\n",
        "print(cal2.adder(7))"
      ]
    },
    {
      "cell_type": "code",
      "execution_count": null,
      "id": "7c8303c9",
      "metadata": {
        "id": "7c8303c9",
        "outputId": "e3879980-ebef-4cf0-9686-265b80b97e00"
      },
      "outputs": [
        {
          "name": "stdout",
          "output_type": "stream",
          "text": [
            "1 + 1 = 2이다.\n"
          ]
        }
      ],
      "source": [
        "class Service:\n",
        "    secret = '지구는 4006년에 멸망한다'\n",
        "    def sum(self, a, b):\n",
        "        result = a+b\n",
        "        print(\"%s + %s = %s이다.\" % (a, b, result))\n",
        "\n",
        "an = Service()\n",
        "\n",
        "an.sum(1,1)"
      ]
    },
    {
      "cell_type": "code",
      "execution_count": null,
      "id": "206961bf",
      "metadata": {
        "id": "206961bf",
        "outputId": "f2dcc877-8f32-4ecd-aa51-4d53846aa1f7"
      },
      "outputs": [
        {
          "name": "stdout",
          "output_type": "stream",
          "text": [
            "Alex Ko님, 1 + 1 = 2이다.\n"
          ]
        }
      ],
      "source": [
        "class Service:\n",
        "    secret = '지구는 4006년에 멸망한다'\n",
        "    def setname(self, name):\n",
        "        self.name = name\n",
        "    def sum(self, a, b):\n",
        "        result = a+b\n",
        "        print(\"%s님, %s + %s = %s이다.\" % (self.name, a, b, result))\n",
        "\n",
        "an = Service()\n",
        "an.setname(\"Alex Ko\")\n",
        "an.sum(1,1)"
      ]
    },
    {
      "cell_type": "code",
      "execution_count": null,
      "id": "5208bffd",
      "metadata": {
        "id": "5208bffd",
        "outputId": "d832f9a5-6232-4c5a-be13-9649bc3fceae"
      },
      "outputs": [
        {
          "name": "stdout",
          "output_type": "stream",
          "text": [
            "김정보\n",
            "박기술\n",
            "지구는 4006년에 멸망한다\n",
            "비밀은 없다\n"
          ]
        },
        {
          "data": {
            "text/plain": [
              "'지구는 4006년에 멸망한다'"
            ]
          },
          "execution_count": 11,
          "metadata": {},
          "output_type": "execute_result"
        }
      ],
      "source": [
        "kim = Service()\n",
        "park = Service()\n",
        "\n",
        "kim.name = \"김정보\"\n",
        "park.name = \"박기술\"\n",
        "\n",
        "print(kim.name)\n",
        "print(park.name)\n",
        "\n",
        "kim.secret = \"비밀은 없다\"\n",
        "print(park.secret)\n",
        "print(kim.secret)\n",
        "\n",
        "Service.secret"
      ]
    },
    {
      "cell_type": "code",
      "execution_count": null,
      "id": "0bc91e2d",
      "metadata": {
        "id": "0bc91e2d",
        "outputId": "bee7acb0-3a12-4302-c307-71ee2bd7c24f"
      },
      "outputs": [
        {
          "ename": "AttributeError",
          "evalue": "'Service' object has no attribute 'name'",
          "output_type": "error",
          "traceback": [
            "\u001b[31m---------------------------------------------------------------------------\u001b[39m",
            "\u001b[31mAttributeError\u001b[39m                            Traceback (most recent call last)",
            "\u001b[36mCell\u001b[39m\u001b[36m \u001b[39m\u001b[32mIn[12]\u001b[39m\u001b[32m, line 2\u001b[39m\n\u001b[32m      1\u001b[39m lee = Service()\n\u001b[32m----> \u001b[39m\u001b[32m2\u001b[39m lee.sum(\u001b[32m1\u001b[39m,\u001b[32m1\u001b[39m)\n",
            "\u001b[36mCell\u001b[39m\u001b[36m \u001b[39m\u001b[32mIn[8]\u001b[39m\u001b[32m, line 7\u001b[39m, in \u001b[36mService.sum\u001b[39m\u001b[34m(self, a, b)\u001b[39m\n\u001b[32m      5\u001b[39m \u001b[38;5;28;01mdef\u001b[39;00m\u001b[38;5;250m \u001b[39m\u001b[34msum\u001b[39m(\u001b[38;5;28mself\u001b[39m, a, b):\n\u001b[32m      6\u001b[39m     result = a+b\n\u001b[32m----> \u001b[39m\u001b[32m7\u001b[39m     \u001b[38;5;28mprint\u001b[39m(\u001b[33m\"\u001b[39m\u001b[38;5;132;01m%s\u001b[39;00m\u001b[33m님, \u001b[39m\u001b[38;5;132;01m%s\u001b[39;00m\u001b[33m + \u001b[39m\u001b[38;5;132;01m%s\u001b[39;00m\u001b[33m = \u001b[39m\u001b[38;5;132;01m%s\u001b[39;00m\u001b[33m이다.\u001b[39m\u001b[33m\"\u001b[39m % (\u001b[38;5;28mself\u001b[39m.name, a, b, result))\n",
            "\u001b[31mAttributeError\u001b[39m: 'Service' object has no attribute 'name'"
          ]
        }
      ],
      "source": [
        "lee = Service()\n",
        "lee.sum(1,1)"
      ]
    },
    {
      "cell_type": "code",
      "execution_count": null,
      "id": "a6b66a1e",
      "metadata": {
        "id": "a6b66a1e",
        "outputId": "2e2d0ef0-afdc-4c09-d442-f25bcc637988"
      },
      "outputs": [
        {
          "data": {
            "text/plain": [
              "__main__.FourCal"
            ]
          },
          "execution_count": 13,
          "metadata": {},
          "output_type": "execute_result"
        }
      ],
      "source": [
        "class FourCal:\n",
        "    pass\n",
        "\n",
        "a = FourCal()\n",
        "type(a)"
      ]
    },
    {
      "cell_type": "code",
      "execution_count": null,
      "id": "399a248a",
      "metadata": {
        "id": "399a248a",
        "outputId": "ae3485f2-ab8f-44c3-e46e-22b093a2f654"
      },
      "outputs": [
        {
          "name": "stdout",
          "output_type": "stream",
          "text": [
            "4\n",
            "2\n"
          ]
        }
      ],
      "source": [
        "class FourCal:\n",
        "    def setdata(self, first, second):\n",
        "        self.first = first\n",
        "        self.second = second\n",
        "\n",
        "a = FourCal()\n",
        "a.setdata(4, 2)\n",
        "\n",
        "print(a.first)\n",
        "print(a.second)"
      ]
    },
    {
      "cell_type": "code",
      "execution_count": null,
      "id": "a74ec946",
      "metadata": {
        "id": "a74ec946",
        "outputId": "a8c79633-9af9-48cb-e48e-a6dca00f9596"
      },
      "outputs": [
        {
          "name": "stdout",
          "output_type": "stream",
          "text": [
            "6\n"
          ]
        }
      ],
      "source": [
        "class FourCal:\n",
        "    def setdata(self, first, second):\n",
        "        self.first = first\n",
        "        self.second = second\n",
        "    def sum(self):\n",
        "        result = self.first + self.second\n",
        "        return result\n",
        "\n",
        "a = FourCal()\n",
        "a.setdata(4, 2)\n",
        "\n",
        "print(a.sum())\n",
        ""
      ]
    },
    {
      "cell_type": "code",
      "execution_count": null,
      "id": "cdc52439",
      "metadata": {
        "id": "cdc52439"
      },
      "outputs": [],
      "source": [
        "class FourCal:\n",
        "    def setdata(self, first, second):\n",
        "        self.first = first\n",
        "        self.second = second\n",
        "    def sum(self):\n",
        "        result = self.first + self.second\n",
        "        return result\n",
        "    def mul(self):\n",
        "        result = self.first * self.second\n",
        "        return result\n",
        "    def sub(self):\n",
        "        result = self.first - self.second\n",
        "        return result\n",
        "    def div(self):\n",
        "        result = self.first / self.second\n",
        "        return result"
      ]
    },
    {
      "cell_type": "code",
      "execution_count": null,
      "id": "6ddffd68",
      "metadata": {
        "id": "6ddffd68",
        "outputId": "d1976727-f08b-4125-8ef1-7f0e2ca403be"
      },
      "outputs": [
        {
          "name": "stdout",
          "output_type": "stream",
          "text": [
            "sum: 6\n",
            "mul: 8\n",
            "sub: 2\n",
            "div: 2.0\n",
            "div: -4\n"
          ]
        }
      ],
      "source": [
        "a = FourCal()\n",
        "b = FourCal()\n",
        "a.setdata(4,2)\n",
        "b.setdata(3,7)\n",
        "print(f'sum: {a.sum()}')\n",
        "print(f'mul: {a.mul()}')\n",
        "print(f'sub: {a.sub()}')\n",
        "print(f'div: {a.div()}')\n",
        "print(f'div: {b.sub()}')"
      ]
    },
    {
      "cell_type": "code",
      "execution_count": null,
      "id": "77dbe563",
      "metadata": {
        "id": "77dbe563",
        "outputId": "8ef6e02c-b937-4b04-8695-02cd52f2ce80"
      },
      "outputs": [
        {
          "name": "stdout",
          "output_type": "stream",
          "text": [
            "Player 1 rolled: [6, 5, 4]\n",
            "Player 2 rolled: [2, 4, 5]\n",
            "Player 1 wins !\n"
          ]
        }
      ],
      "source": [
        "from random import randint\n",
        "\n",
        "class Player:\n",
        "    def __init__(self):\n",
        "        self.dice = []\n",
        "\n",
        "    def roll(self):\n",
        "        self.dice = []\n",
        "        for i in range(3):\n",
        "            self.dice.append(randint(1,6))\n",
        "\n",
        "    def get_dice(self):\n",
        "        return self.dice\n",
        "\n",
        "player1 = Player()\n",
        "player2 = Player()\n",
        "\n",
        "player1.roll()\n",
        "player2.roll()\n",
        "\n",
        "print(\"Player 1 rolled: \" + str(player1.get_dice()))\n",
        "print(\"Player 2 rolled: \" + str(player2.get_dice()))\n",
        "\n",
        "if sum(player1.get_dice()) == sum(player2.get_dice()):\n",
        "    print(\"Draw!\")\n",
        "elif sum(player1.get_dice()) > sum(player2.get_dice()):\n",
        "    print(\"Player 1 wins !\")\n",
        "else:\n",
        "    print(\"Player 2 wins !\")\n"
      ]
    }
  ],
  "metadata": {
    "kernelspec": {
      "display_name": "mot",
      "language": "python",
      "name": "python3"
    },
    "language_info": {
      "codemirror_mode": {
        "name": "ipython",
        "version": 3
      },
      "file_extension": ".py",
      "mimetype": "text/x-python",
      "name": "python",
      "nbconvert_exporter": "python",
      "pygments_lexer": "ipython3",
      "version": "3.13.2"
    },
    "colab": {
      "provenance": [],
      "include_colab_link": true
    }
  },
  "nbformat": 4,
  "nbformat_minor": 5
}